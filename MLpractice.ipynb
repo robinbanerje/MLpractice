{
 "cells": [
  {
   "cell_type": "markdown",
   "metadata": {},
   "source": [
    "ML regression algorithms"
   ]
  },
  {
   "cell_type": "code",
   "execution_count": 3,
   "metadata": {},
   "outputs": [],
   "source": [
    "import pandas as pd\n",
    "import matplotlib.pyplot as plt"
   ]
  },
  {
   "cell_type": "markdown",
   "metadata": {},
   "source": [
    "# Simple Linear regression"
   ]
  },
  {
   "cell_type": "code",
   "execution_count": 4,
   "metadata": {},
   "outputs": [
    {
     "data": {
      "text/html": [
       "<div>\n",
       "<style scoped>\n",
       "    .dataframe tbody tr th:only-of-type {\n",
       "        vertical-align: middle;\n",
       "    }\n",
       "\n",
       "    .dataframe tbody tr th {\n",
       "        vertical-align: top;\n",
       "    }\n",
       "\n",
       "    .dataframe thead th {\n",
       "        text-align: right;\n",
       "    }\n",
       "</style>\n",
       "<table border=\"1\" class=\"dataframe\">\n",
       "  <thead>\n",
       "    <tr style=\"text-align: right;\">\n",
       "      <th></th>\n",
       "      <th>cgpa</th>\n",
       "      <th>package</th>\n",
       "    </tr>\n",
       "  </thead>\n",
       "  <tbody>\n",
       "    <tr>\n",
       "      <th>0</th>\n",
       "      <td>6.89</td>\n",
       "      <td>3.26</td>\n",
       "    </tr>\n",
       "    <tr>\n",
       "      <th>1</th>\n",
       "      <td>5.12</td>\n",
       "      <td>1.98</td>\n",
       "    </tr>\n",
       "    <tr>\n",
       "      <th>2</th>\n",
       "      <td>7.82</td>\n",
       "      <td>3.25</td>\n",
       "    </tr>\n",
       "    <tr>\n",
       "      <th>3</th>\n",
       "      <td>7.42</td>\n",
       "      <td>3.67</td>\n",
       "    </tr>\n",
       "    <tr>\n",
       "      <th>4</th>\n",
       "      <td>6.94</td>\n",
       "      <td>3.57</td>\n",
       "    </tr>\n",
       "    <tr>\n",
       "      <th>...</th>\n",
       "      <td>...</td>\n",
       "      <td>...</td>\n",
       "    </tr>\n",
       "    <tr>\n",
       "      <th>195</th>\n",
       "      <td>6.93</td>\n",
       "      <td>2.46</td>\n",
       "    </tr>\n",
       "    <tr>\n",
       "      <th>196</th>\n",
       "      <td>5.89</td>\n",
       "      <td>2.57</td>\n",
       "    </tr>\n",
       "    <tr>\n",
       "      <th>197</th>\n",
       "      <td>7.21</td>\n",
       "      <td>3.24</td>\n",
       "    </tr>\n",
       "    <tr>\n",
       "      <th>198</th>\n",
       "      <td>7.63</td>\n",
       "      <td>3.96</td>\n",
       "    </tr>\n",
       "    <tr>\n",
       "      <th>199</th>\n",
       "      <td>6.22</td>\n",
       "      <td>2.33</td>\n",
       "    </tr>\n",
       "  </tbody>\n",
       "</table>\n",
       "<p>200 rows × 2 columns</p>\n",
       "</div>"
      ],
      "text/plain": [
       "     cgpa  package\n",
       "0    6.89     3.26\n",
       "1    5.12     1.98\n",
       "2    7.82     3.25\n",
       "3    7.42     3.67\n",
       "4    6.94     3.57\n",
       "..    ...      ...\n",
       "195  6.93     2.46\n",
       "196  5.89     2.57\n",
       "197  7.21     3.24\n",
       "198  7.63     3.96\n",
       "199  6.22     2.33\n",
       "\n",
       "[200 rows x 2 columns]"
      ]
     },
     "execution_count": 4,
     "metadata": {},
     "output_type": "execute_result"
    }
   ],
   "source": [
    "pd.read_csv(\"placement.csv\")"
   ]
  },
  {
   "cell_type": "code",
   "execution_count": 9,
   "metadata": {},
   "outputs": [
    {
     "data": {
      "text/plain": [
       "Text(0, 0.5, 'Package')"
      ]
     },
     "execution_count": 9,
     "metadata": {},
     "output_type": "execute_result"
    },
    {
     "data": {
      "image/png": "[encoded data removed]",
      "text/plain": [
       "<Figure size 640x480 with 1 Axes>"
      ]
     },
     "metadata": {},
     "output_type": "display_data"
    }
   ],
   "source": [
    "df = pd.read_csv(\"placement.csv\")\n",
    "\n",
    "plt.scatter(df[\"cgpa\"], df[\"package\"])\n",
    "plt.xlabel(\"CGPA\") \n",
    "plt.ylabel(\"Package\") "
   ]
  },
  {
   "cell_type": "code",
   "execution_count": 39,
   "metadata": {},
   "outputs": [
    {
     "data": {
      "text/html": [
       "<div>\n",
       "<style scoped>\n",
       "    .dataframe tbody tr th:only-of-type {\n",
       "        vertical-align: middle;\n",
       "    }\n",
       "\n",
       "    .dataframe tbody tr th {\n",
       "        vertical-align: top;\n",
       "    }\n",
       "\n",
       "    .dataframe thead th {\n",
       "        text-align: right;\n",
       "    }\n",
       "</style>\n",
       "<table border=\"1\" class=\"dataframe\">\n",
       "  <thead>\n",
       "    <tr style=\"text-align: right;\">\n",
       "      <th></th>\n",
       "      <th>cgpa</th>\n",
       "    </tr>\n",
       "  </thead>\n",
       "  <tbody>\n",
       "    <tr>\n",
       "      <th>0</th>\n",
       "      <td>6.89</td>\n",
       "    </tr>\n",
       "    <tr>\n",
       "      <th>1</th>\n",
       "      <td>5.12</td>\n",
       "    </tr>\n",
       "    <tr>\n",
       "      <th>2</th>\n",
       "      <td>7.82</td>\n",
       "    </tr>\n",
       "    <tr>\n",
       "      <th>3</th>\n",
       "      <td>7.42</td>\n",
       "    </tr>\n",
       "    <tr>\n",
       "      <th>4</th>\n",
       "      <td>6.94</td>\n",
       "    </tr>\n",
       "    <tr>\n",
       "      <th>...</th>\n",
       "      <td>...</td>\n",
       "    </tr>\n",
       "    <tr>\n",
       "      <th>195</th>\n",
       "      <td>6.93</td>\n",
       "    </tr>\n",
       "    <tr>\n",
       "      <th>196</th>\n",
       "      <td>5.89</td>\n",
       "    </tr>\n",
       "    <tr>\n",
       "      <th>197</th>\n",
       "      <td>7.21</td>\n",
       "    </tr>\n",
       "    <tr>\n",
       "      <th>198</th>\n",
       "      <td>7.63</td>\n",
       "    </tr>\n",
       "    <tr>\n",
       "      <th>199</th>\n",
       "      <td>6.22</td>\n",
       "    </tr>\n",
       "  </tbody>\n",
       "</table>\n",
       "<p>200 rows × 1 columns</p>\n",
       "</div>"
      ],
      "text/plain": [
       "     cgpa\n",
       "0    6.89\n",
       "1    5.12\n",
       "2    7.82\n",
       "3    7.42\n",
       "4    6.94\n",
       "..    ...\n",
       "195  6.93\n",
       "196  5.89\n",
       "197  7.21\n",
       "198  7.63\n",
       "199  6.22\n",
       "\n",
       "[200 rows x 1 columns]"
      ]
     },
     "execution_count": 39,
     "metadata": {},
     "output_type": "execute_result"
    }
   ],
   "source": [
    "X = df.iloc[:,0:1] # independent feature\n",
    "X"
   ]
  },
  {
   "cell_type": "code",
   "execution_count": 40,
   "metadata": {},
   "outputs": [
    {
     "data": {
      "text/plain": [
       "0      3.26\n",
       "1      1.98\n",
       "2      3.25\n",
       "3      3.67\n",
       "4      3.57\n",
       "       ... \n",
       "195    2.46\n",
       "196    2.57\n",
       "197    3.24\n",
       "198    3.96\n",
       "199    2.33\n",
       "Name: package, Length: 200, dtype: float64"
      ]
     },
     "execution_count": 40,
     "metadata": {},
     "output_type": "execute_result"
    }
   ],
   "source": [
    "Y = df.iloc[:,-1] # target feature\n",
    "Y"
   ]
  },
  {
   "cell_type": "code",
   "execution_count": 41,
   "metadata": {},
   "outputs": [],
   "source": [
    "from sklearn.model_selection import train_test_split"
   ]
  },
  {
   "cell_type": "code",
   "execution_count": 42,
   "metadata": {},
   "outputs": [],
   "source": [
    "X_train, X_test, y_train, y_test = train_test_split(X,Y, test_size=0.15, random_state=436342) # 15% of random sample data for testing for 42 no. of times"
   ]
  },
  {
   "cell_type": "code",
   "execution_count": 45,
   "metadata": {},
   "outputs": [
    {
     "data": {
      "text/plain": [
       "(170, 1)"
      ]
     },
     "execution_count": 45,
     "metadata": {},
     "output_type": "execute_result"
    }
   ],
   "source": [
    "X_train.shape"
   ]
  },
  {
   "cell_type": "code",
   "execution_count": 47,
   "metadata": {},
   "outputs": [
    {
     "data": {
      "text/plain": [
       "(170,)"
      ]
     },
     "execution_count": 47,
     "metadata": {},
     "output_type": "execute_result"
    }
   ],
   "source": [
    "y_train.shape"
   ]
  },
  {
   "cell_type": "code",
   "execution_count": 46,
   "metadata": {},
   "outputs": [
    {
     "data": {
      "text/plain": [
       "(30, 1)"
      ]
     },
     "execution_count": 46,
     "metadata": {},
     "output_type": "execute_result"
    }
   ],
   "source": [
    "X_test.shape"
   ]
  },
  {
   "cell_type": "code",
   "execution_count": 36,
   "metadata": {},
   "outputs": [],
   "source": [
    "from sklearn.linear_model import LinearRegression as lr"
   ]
  },
  {
   "cell_type": "code",
   "execution_count": 48,
   "metadata": {},
   "outputs": [],
   "source": [
    "model = lr()"
   ]
  },
  {
   "cell_type": "code",
   "execution_count": 49,
   "metadata": {},
   "outputs": [
    {
     "data": {
      "text/html": [
       "<style>#sk-container-id-1 {color: black;}#sk-container-id-1 pre{padding: 0;}#sk-container-id-1 div.sk-toggleable {background-color: white;}#sk-container-id-1 label.sk-toggleable__label {cursor: pointer;display: block;width: 100%;margin-bottom: 0;padding: 0.3em;box-sizing: border-box;text-align: center;}#sk-container-id-1 label.sk-toggleable__label-arrow:before {content: \"▸\";float: left;margin-right: 0.25em;color: #696969;}#sk-container-id-1 label.sk-toggleable__label-arrow:hover:before {color: black;}#sk-container-id-1 div.sk-estimator:hover label.sk-toggleable__label-arrow:before {color: black;}#sk-container-id-1 div.sk-toggleable__content {max-height: 0;max-width: 0;overflow: hidden;text-align: left;background-color: #f0f8ff;}#sk-container-id-1 div.sk-toggleable__content pre {margin: 0.2em;color: black;border-radius: 0.25em;background-color: #f0f8ff;}#sk-container-id-1 input.sk-toggleable__control:checked~div.sk-toggleable__content {max-height: 200px;max-width: 100%;overflow: auto;}#sk-container-id-1 input.sk-toggleable__control:checked~label.sk-toggleable__label-arrow:before {content: \"▾\";}#sk-container-id-1 div.sk-estimator input.sk-toggleable__control:checked~label.sk-toggleable__label {background-color: #d4ebff;}#sk-container-id-1 div.sk-label input.sk-toggleable__control:checked~label.sk-toggleable__label {background-color: #d4ebff;}#sk-container-id-1 input.sk-hidden--visually {border: 0;clip: rect(1px 1px 1px 1px);clip: rect(1px, 1px, 1px, 1px);height: 1px;margin: -1px;overflow: hidden;padding: 0;position: absolute;width: 1px;}#sk-container-id-1 div.sk-estimator {font-family: monospace;background-color: #f0f8ff;border: 1px dotted black;border-radius: 0.25em;box-sizing: border-box;margin-bottom: 0.5em;}#sk-container-id-1 div.sk-estimator:hover {background-color: #d4ebff;}#sk-container-id-1 div.sk-parallel-item::after {content: \"\";width: 100%;border-bottom: 1px solid gray;flex-grow: 1;}#sk-container-id-1 div.sk-label:hover label.sk-toggleable__label {background-color: #d4ebff;}#sk-container-id-1 div.sk-serial::before {content: \"\";position: absolute;border-left: 1px solid gray;box-sizing: border-box;top: 0;bottom: 0;left: 50%;z-index: 0;}#sk-container-id-1 div.sk-serial {display: flex;flex-direction: column;align-items: center;background-color: white;padding-right: 0.2em;padding-left: 0.2em;position: relative;}#sk-container-id-1 div.sk-item {position: relative;z-index: 1;}#sk-container-id-1 div.sk-parallel {display: flex;align-items: stretch;justify-content: center;background-color: white;position: relative;}#sk-container-id-1 div.sk-item::before, #sk-container-id-1 div.sk-parallel-item::before {content: \"\";position: absolute;border-left: 1px solid gray;box-sizing: border-box;top: 0;bottom: 0;left: 50%;z-index: -1;}#sk-container-id-1 div.sk-parallel-item {display: flex;flex-direction: column;z-index: 1;position: relative;background-color: white;}#sk-container-id-1 div.sk-parallel-item:first-child::after {align-self: flex-end;width: 50%;}#sk-container-id-1 div.sk-parallel-item:last-child::after {align-self: flex-start;width: 50%;}#sk-container-id-1 div.sk-parallel-item:only-child::after {width: 0;}#sk-container-id-1 div.sk-dashed-wrapped {border: 1px dashed gray;margin: 0 0.4em 0.5em 0.4em;box-sizing: border-box;padding-bottom: 0.4em;background-color: white;}#sk-container-id-1 div.sk-label label {font-family: monospace;font-weight: bold;display: inline-block;line-height: 1.2em;}#sk-container-id-1 div.sk-label-container {text-align: center;}#sk-container-id-1 div.sk-container {/* jupyter's `normalize.less` sets `[hidden] { display: none; }` but bootstrap.min.css set `[hidden] { display: none !important; }` so we also need the `!important` here to be able to override the default hidden behavior on the sphinx rendered scikit-learn.org. See: https://github.com/scikit-learn/scikit-learn/issues/21755 */display: inline-block !important;position: relative;}#sk-container-id-1 div.sk-text-repr-fallback {display: none;}</style><div id=\"sk-container-id-1\" class=\"sk-top-container\"><div class=\"sk-text-repr-fallback\"><pre>LinearRegression()</pre><b>In a Jupyter environment, please rerun this cell to show the HTML representation or trust the notebook. <br />On GitHub, the HTML representation is unable to render, please try loading this page with nbviewer.org.</b></div><div class=\"sk-container\" hidden><div class=\"sk-item\"><div class=\"sk-estimator sk-toggleable\"><input class=\"sk-toggleable__control sk-hidden--visually\" id=\"sk-estimator-id-1\" type=\"checkbox\" checked><label for=\"sk-estimator-id-1\" class=\"sk-toggleable__label sk-toggleable__label-arrow\">LinearRegression</label><div class=\"sk-toggleable__content\"><pre>LinearRegression()</pre></div></div></div></div></div>"
      ],
      "text/plain": [
       "LinearRegression()"
      ]
     },
     "execution_count": 49,
     "metadata": {},
     "output_type": "execute_result"
    }
   ],
   "source": [
    "model.fit(X_train, y_train)"
   ]
  },
  {
   "cell_type": "code",
   "execution_count": 52,
   "metadata": {},
   "outputs": [
    {
     "data": {
      "text/plain": [
       "0.7860003400078011"
      ]
     },
     "execution_count": 52,
     "metadata": {},
     "output_type": "execute_result"
    }
   ],
   "source": [
    "model.score(X_train, y_train) # r squared value = r2"
   ]
  },
  {
   "cell_type": "markdown",
   "metadata": {},
   "source": [
    "if r2 value near to 1 that model will be best model (r2 ranges from 0-1)"
   ]
  },
  {
   "cell_type": "code",
   "execution_count": 53,
   "metadata": {},
   "outputs": [
    {
     "data": {
      "text/html": [
       "<div>\n",
       "<style scoped>\n",
       "    .dataframe tbody tr th:only-of-type {\n",
       "        vertical-align: middle;\n",
       "    }\n",
       "\n",
       "    .dataframe tbody tr th {\n",
       "        vertical-align: top;\n",
       "    }\n",
       "\n",
       "    .dataframe thead th {\n",
       "        text-align: right;\n",
       "    }\n",
       "</style>\n",
       "<table border=\"1\" class=\"dataframe\">\n",
       "  <thead>\n",
       "    <tr style=\"text-align: right;\">\n",
       "      <th></th>\n",
       "      <th>cgpa</th>\n",
       "    </tr>\n",
       "  </thead>\n",
       "  <tbody>\n",
       "    <tr>\n",
       "      <th>168</th>\n",
       "      <td>8.65</td>\n",
       "    </tr>\n",
       "    <tr>\n",
       "      <th>79</th>\n",
       "      <td>7.18</td>\n",
       "    </tr>\n",
       "    <tr>\n",
       "      <th>106</th>\n",
       "      <td>6.13</td>\n",
       "    </tr>\n",
       "    <tr>\n",
       "      <th>26</th>\n",
       "      <td>8.31</td>\n",
       "    </tr>\n",
       "    <tr>\n",
       "      <th>111</th>\n",
       "      <td>5.42</td>\n",
       "    </tr>\n",
       "    <tr>\n",
       "      <th>174</th>\n",
       "      <td>7.32</td>\n",
       "    </tr>\n",
       "    <tr>\n",
       "      <th>93</th>\n",
       "      <td>6.79</td>\n",
       "    </tr>\n",
       "    <tr>\n",
       "      <th>86</th>\n",
       "      <td>7.61</td>\n",
       "    </tr>\n",
       "    <tr>\n",
       "      <th>125</th>\n",
       "      <td>7.33</td>\n",
       "    </tr>\n",
       "    <tr>\n",
       "      <th>7</th>\n",
       "      <td>6.75</td>\n",
       "    </tr>\n",
       "    <tr>\n",
       "      <th>72</th>\n",
       "      <td>7.78</td>\n",
       "    </tr>\n",
       "    <tr>\n",
       "      <th>172</th>\n",
       "      <td>6.93</td>\n",
       "    </tr>\n",
       "    <tr>\n",
       "      <th>82</th>\n",
       "      <td>5.58</td>\n",
       "    </tr>\n",
       "    <tr>\n",
       "      <th>188</th>\n",
       "      <td>7.35</td>\n",
       "    </tr>\n",
       "    <tr>\n",
       "      <th>108</th>\n",
       "      <td>7.76</td>\n",
       "    </tr>\n",
       "    <tr>\n",
       "      <th>173</th>\n",
       "      <td>6.75</td>\n",
       "    </tr>\n",
       "    <tr>\n",
       "      <th>175</th>\n",
       "      <td>7.04</td>\n",
       "    </tr>\n",
       "    <tr>\n",
       "      <th>75</th>\n",
       "      <td>6.97</td>\n",
       "    </tr>\n",
       "    <tr>\n",
       "      <th>156</th>\n",
       "      <td>7.38</td>\n",
       "    </tr>\n",
       "    <tr>\n",
       "      <th>100</th>\n",
       "      <td>7.95</td>\n",
       "    </tr>\n",
       "    <tr>\n",
       "      <th>2</th>\n",
       "      <td>7.82</td>\n",
       "    </tr>\n",
       "    <tr>\n",
       "      <th>60</th>\n",
       "      <td>5.61</td>\n",
       "    </tr>\n",
       "    <tr>\n",
       "      <th>34</th>\n",
       "      <td>7.34</td>\n",
       "    </tr>\n",
       "    <tr>\n",
       "      <th>142</th>\n",
       "      <td>6.93</td>\n",
       "    </tr>\n",
       "    <tr>\n",
       "      <th>87</th>\n",
       "      <td>8.09</td>\n",
       "    </tr>\n",
       "    <tr>\n",
       "      <th>105</th>\n",
       "      <td>6.66</td>\n",
       "    </tr>\n",
       "    <tr>\n",
       "      <th>163</th>\n",
       "      <td>8.93</td>\n",
       "    </tr>\n",
       "    <tr>\n",
       "      <th>160</th>\n",
       "      <td>7.13</td>\n",
       "    </tr>\n",
       "    <tr>\n",
       "      <th>43</th>\n",
       "      <td>7.66</td>\n",
       "    </tr>\n",
       "    <tr>\n",
       "      <th>98</th>\n",
       "      <td>7.69</td>\n",
       "    </tr>\n",
       "  </tbody>\n",
       "</table>\n",
       "</div>"
      ],
      "text/plain": [
       "     cgpa\n",
       "168  8.65\n",
       "79   7.18\n",
       "106  6.13\n",
       "26   8.31\n",
       "111  5.42\n",
       "174  7.32\n",
       "93   6.79\n",
       "86   7.61\n",
       "125  7.33\n",
       "7    6.75\n",
       "72   7.78\n",
       "172  6.93\n",
       "82   5.58\n",
       "188  7.35\n",
       "108  7.76\n",
       "173  6.75\n",
       "175  7.04\n",
       "75   6.97\n",
       "156  7.38\n",
       "100  7.95\n",
       "2    7.82\n",
       "60   5.61\n",
       "34   7.34\n",
       "142  6.93\n",
       "87   8.09\n",
       "105  6.66\n",
       "163  8.93\n",
       "160  7.13\n",
       "43   7.66\n",
       "98   7.69"
      ]
     },
     "execution_count": 53,
     "metadata": {},
     "output_type": "execute_result"
    }
   ],
   "source": [
    "X_test"
   ]
  },
  {
   "cell_type": "code",
   "execution_count": 55,
   "metadata": {},
   "outputs": [
    {
     "data": {
      "text/plain": [
       "array([3.96351015, 3.11641159, 2.5113412 , 3.76758259, 2.10219835,\n",
       "       3.19708765, 2.89167116, 3.36420233, 3.20285022, 2.86862086,\n",
       "       3.46216611, 2.97234721, 2.19439956, 3.21437537, 3.45064096,\n",
       "       2.86862086, 3.03573554, 2.99539751, 3.2316631 , 3.56012989,\n",
       "       3.48521641, 2.21168728, 3.2086128 , 2.97234721, 3.64080594,\n",
       "       2.81675768, 4.12486226, 3.08759872, 3.3930152 , 3.41030293])"
      ]
     },
     "execution_count": 55,
     "metadata": {},
     "output_type": "execute_result"
    }
   ],
   "source": [
    "y_predict = model.predict(X_test)\n",
    "y_predict"
   ]
  },
  {
   "cell_type": "code",
   "execution_count": 56,
   "metadata": {},
   "outputs": [
    {
     "data": {
      "text/plain": [
       "168    3.52\n",
       "79     3.00\n",
       "106    2.19\n",
       "26     3.42\n",
       "111    2.25\n",
       "174    2.99\n",
       "93     3.08\n",
       "86     2.77\n",
       "125    3.16\n",
       "7      2.48\n",
       "72     3.62\n",
       "172    2.51\n",
       "82     2.17\n",
       "188    3.08\n",
       "108    3.54\n",
       "173    2.56\n",
       "175    3.50\n",
       "75     3.28\n",
       "156    3.13\n",
       "100    4.14\n",
       "2      3.25\n",
       "60     2.19\n",
       "34     3.42\n",
       "142    3.04\n",
       "87     3.55\n",
       "105    2.82\n",
       "163    3.91\n",
       "160    2.93\n",
       "43     2.76\n",
       "98     3.83\n",
       "Name: package, dtype: float64"
      ]
     },
     "execution_count": 56,
     "metadata": {},
     "output_type": "execute_result"
    }
   ],
   "source": [
    "y_test"
   ]
  },
  {
   "cell_type": "code",
   "execution_count": 57,
   "metadata": {},
   "outputs": [],
   "source": [
    "from sklearn.metrics import r2_score"
   ]
  },
  {
   "cell_type": "code",
   "execution_count": 58,
   "metadata": {},
   "outputs": [
    {
     "data": {
      "text/plain": [
       "0.6552006472921322"
      ]
     },
     "execution_count": 58,
     "metadata": {},
     "output_type": "execute_result"
    }
   ],
   "source": [
    "r2_score(y_test, y_predict)"
   ]
  },
  {
   "cell_type": "code",
   "execution_count": 59,
   "metadata": {},
   "outputs": [
    {
     "data": {
      "text/plain": [
       "array([0.57625752])"
      ]
     },
     "execution_count": 59,
     "metadata": {},
     "output_type": "execute_result"
    }
   ],
   "source": [
    "model.coef_"
   ]
  },
  {
   "cell_type": "code",
   "execution_count": 60,
   "metadata": {},
   "outputs": [
    {
     "data": {
      "text/plain": [
       "-1.021117413908386"
      ]
     },
     "execution_count": 60,
     "metadata": {},
     "output_type": "execute_result"
    }
   ],
   "source": [
    "model.intercept_"
   ]
  },
  {
   "cell_type": "code",
   "execution_count": 62,
   "metadata": {},
   "outputs": [],
   "source": [
    "# y = mx+c, m is coeff and c is intercept\n",
    "# y = 0.57 x - 1.02 is the required algo"
   ]
  },
  {
   "cell_type": "code",
   "execution_count": 64,
   "metadata": {},
   "outputs": [
    {
     "name": "stderr",
     "output_type": "stream",
     "text": [
      "f:\\Ineuron\\Notes\\venv\\lib\\site-packages\\sklearn\\base.py:465: UserWarning: X does not have valid feature names, but LinearRegression was fitted with feature names\n",
      "  warnings.warn(\n"
     ]
    },
    {
     "data": {
      "text/plain": [
       "array([3.89435925])"
      ]
     },
     "execution_count": 64,
     "metadata": {},
     "output_type": "execute_result"
    }
   ],
   "source": [
    "model.predict([[8.53]]) # predicting package of someone with 8.53 cgpa "
   ]
  },
  {
   "cell_type": "code",
   "execution_count": 66,
   "metadata": {},
   "outputs": [
    {
     "data": {
      "text/plain": [
       "[<matplotlib.lines.Line2D at 0x1da1476ce80>]"
      ]
     },
     "execution_count": 66,
     "metadata": {},
     "output_type": "execute_result"
    },
    {
     "data": {
      "image/png": "[encoded data removed]",
      "text/plain": [
       "<Figure size 640x480 with 1 Axes>"
      ]
     },
     "metadata": {},
     "output_type": "display_data"
    }
   ],
   "source": [
    "plt.scatter(df['cgpa'], df['package'])\n",
    "plt.plot(X_train, model.predict(X_train), color = \"red\") # plotting y = 0.57*x-1.02"
   ]
  },
  {
   "cell_type": "markdown",
   "metadata": {},
   "source": [
    "# Multiple linear regression"
   ]
  },
  {
   "cell_type": "code",
   "execution_count": 67,
   "metadata": {},
   "outputs": [],
   "source": [
    "from sklearn.datasets import make_regression"
   ]
  },
  {
   "cell_type": "code",
   "execution_count": 70,
   "metadata": {},
   "outputs": [],
   "source": [
    "X, y = make_regression(n_samples=150, n_features = 2, n_targets = 1, noise = 40)"
   ]
  },
  {
   "cell_type": "code",
   "execution_count": 73,
   "metadata": {},
   "outputs": [
    {
     "data": {
      "text/plain": [
       "array([[-1.34091272e+00,  1.46125719e+00],\n",
       "       [ 9.77954970e-01, -1.82497264e+00],\n",
       "       [ 1.00575677e+00,  2.40889181e-01],\n",
       "       [-1.51523943e+00,  4.23981711e-01],\n",
       "       [ 5.78369492e-01, -5.04652061e-01],\n",
       "       [-5.62899852e-02,  6.73745173e-01],\n",
       "       [ 1.11122583e+00, -1.21410444e+00],\n",
       "       [ 3.38429114e-01,  9.60808883e-01],\n",
       "       [ 1.33774087e+00,  1.11178991e-01],\n",
       "       [ 1.43839531e+00,  7.75350708e-01],\n",
       "       [ 1.44658447e-01,  3.31986535e-01],\n",
       "       [-9.18763984e-01, -2.80021462e-01],\n",
       "       [ 2.79387629e-01,  2.79859369e-01],\n",
       "       [-7.00282609e-02, -7.46387830e-01],\n",
       "       [-3.33436384e-02, -5.12708564e-02],\n",
       "       [ 5.48559779e-01,  1.52833764e-01],\n",
       "       [ 4.17964253e-01,  2.57651902e-01],\n",
       "       [ 2.09161055e+00, -3.47758529e-01],\n",
       "       [ 7.32578512e-02,  7.72042246e-01],\n",
       "       [-6.40864317e-02,  1.77718069e-01],\n",
       "       [-5.14228224e-01, -1.71429426e+00],\n",
       "       [-1.30073487e-01,  3.84353059e-01],\n",
       "       [-5.73110601e-01, -1.07335627e+00],\n",
       "       [-6.25201286e-01,  1.04242393e+00],\n",
       "       [-1.45897341e+00, -8.52610342e-01],\n",
       "       [ 1.84776237e+00, -1.42877448e-02],\n",
       "       [ 1.99168877e+00,  4.72871724e-01],\n",
       "       [-1.27242287e+00,  3.89585906e-01],\n",
       "       [-1.85247929e+00,  4.98707826e-01],\n",
       "       [ 9.89555940e-01, -8.67429609e-02],\n",
       "       [-4.19616012e-01, -4.48543913e-01],\n",
       "       [ 4.71914241e-01,  5.63641886e-01],\n",
       "       [ 1.64871760e+00, -1.59161490e-01],\n",
       "       [ 1.79813786e+00, -1.39157909e+00],\n",
       "       [ 5.70008135e-01, -1.10988910e+00],\n",
       "       [-4.74583601e-01,  1.03024074e+00],\n",
       "       [-2.02219396e-01, -2.03425602e-01],\n",
       "       [ 2.22017132e-01, -1.49660208e-01],\n",
       "       [-1.73120425e+00, -1.98047725e-01],\n",
       "       [-5.90250933e-02, -3.50351075e+00],\n",
       "       [-1.49206232e+00, -3.93903195e-01],\n",
       "       [-5.30484231e-01, -6.81580943e-01],\n",
       "       [ 1.19793212e+00,  1.19672120e+00],\n",
       "       [ 6.30165585e-02, -1.35110582e+00],\n",
       "       [-3.99407817e-01, -2.57079249e+00],\n",
       "       [ 5.22322101e-01, -8.94736474e-01],\n",
       "       [ 1.18052409e+00,  1.43089425e+00],\n",
       "       [-1.40560579e+00,  4.54271296e-01],\n",
       "       [ 3.11388324e-01, -8.00834500e-01],\n",
       "       [ 1.84359235e+00,  2.36759839e-01],\n",
       "       [-1.93617926e+00, -1.36233267e+00],\n",
       "       [-2.75212930e-01, -9.37663887e-01],\n",
       "       [-1.49242025e+00,  1.03425708e+00],\n",
       "       [ 1.07319512e-01,  1.51708102e+00],\n",
       "       [-2.98936568e-01,  1.41850647e-01],\n",
       "       [ 4.05007727e-01,  2.02256683e+00],\n",
       "       [-6.88424672e-01,  1.22354545e-01],\n",
       "       [-2.13561177e-01, -6.77905470e-01],\n",
       "       [ 1.04544566e+00,  2.09338291e+00],\n",
       "       [ 4.91930837e-01, -1.42423740e+00],\n",
       "       [-1.17198135e+00,  2.06056644e+00],\n",
       "       [-1.05079135e-01, -4.70729617e-01],\n",
       "       [ 4.95797367e-01, -4.44841192e-01],\n",
       "       [-6.73199694e-01,  4.29484489e-01],\n",
       "       [-5.16554667e-01, -1.09897993e+00],\n",
       "       [ 1.42678180e+00, -9.56254811e-01],\n",
       "       [ 1.51393400e+00,  1.71476855e+00],\n",
       "       [-7.10326583e-01, -1.64683786e-01],\n",
       "       [ 1.00040882e+00,  1.56753996e-01],\n",
       "       [ 3.53737188e-02, -1.19122242e-01],\n",
       "       [-8.13840300e-01,  1.26280226e+00],\n",
       "       [-5.76465276e-02, -1.84108319e-01],\n",
       "       [-4.01740975e-01,  5.27054816e-01],\n",
       "       [-1.55845271e+00,  5.89077091e-01],\n",
       "       [-9.12408000e-01, -1.28242197e+00],\n",
       "       [-1.03634470e+00,  3.05443240e-01],\n",
       "       [ 1.39309772e-02, -8.51640142e-01],\n",
       "       [-5.09126603e-01, -8.14897998e-01],\n",
       "       [ 4.54942843e-01,  2.33595862e-01],\n",
       "       [-1.18875629e+00,  9.77199052e-01],\n",
       "       [-9.31386985e-01, -2.19151387e-01],\n",
       "       [-1.55293039e-03,  8.28963964e-01],\n",
       "       [-3.07630044e-01,  6.34139626e-01],\n",
       "       [ 1.09275199e+00,  2.53364302e-01],\n",
       "       [-4.87694609e-01, -1.23133347e+00],\n",
       "       [ 5.81181781e-01,  8.39914426e-01],\n",
       "       [ 9.72508046e-01, -1.36638030e-01],\n",
       "       [ 1.74903094e+00,  3.06161827e-01],\n",
       "       [ 4.17313118e-01,  8.89832646e-01],\n",
       "       [-7.83446541e-01, -6.40354069e-01],\n",
       "       [-8.04366100e-01, -9.66482936e-02],\n",
       "       [ 1.10076643e+00, -9.14741776e-01],\n",
       "       [-8.56664204e-01, -7.37944425e-01],\n",
       "       [-8.29861574e-01, -1.28161395e+00],\n",
       "       [ 6.93516595e-01,  6.69245288e-01],\n",
       "       [-9.28827195e-01,  8.43578428e-01],\n",
       "       [ 1.52485233e+00, -6.80501107e-01],\n",
       "       [ 1.49247358e+00,  1.36504553e+00],\n",
       "       [ 9.02798278e-01,  6.46167766e-01],\n",
       "       [-1.31171161e+00, -8.44520090e-01],\n",
       "       [-9.34236076e-01,  2.23594797e+00],\n",
       "       [ 7.81139744e-01,  5.51055066e-01],\n",
       "       [-1.26155193e+00, -1.26858601e+00],\n",
       "       [-1.30805417e+00,  1.27164330e+00],\n",
       "       [-1.27317923e+00, -1.50191143e+00],\n",
       "       [-1.00410538e+00, -9.36803385e-01],\n",
       "       [ 1.95773970e-01,  1.66001909e+00],\n",
       "       [-1.01289448e-01,  2.28380143e-01],\n",
       "       [-9.20749169e-01, -1.49987720e-01],\n",
       "       [-2.28580697e-01, -1.43324407e-01],\n",
       "       [ 6.72881738e-01, -3.86383543e-01],\n",
       "       [ 1.31019090e-01,  5.67199045e-01],\n",
       "       [ 1.27371115e-01, -9.41616231e-01],\n",
       "       [-1.54333894e+00,  2.28633116e+00],\n",
       "       [ 4.78897592e-01, -4.44186888e-01],\n",
       "       [ 2.41538074e+00, -4.64535819e-01],\n",
       "       [ 2.21947645e-01, -3.69110097e-01],\n",
       "       [ 5.25598331e-01, -5.78038528e-01],\n",
       "       [ 1.10180018e+00, -6.93663400e-01],\n",
       "       [-1.56373842e+00,  7.77476118e-01],\n",
       "       [-1.94703196e-01, -3.46310947e-02],\n",
       "       [ 1.89317344e-01,  7.73352961e-01],\n",
       "       [-1.34337691e+00, -2.17963526e+00],\n",
       "       [-1.69097591e+00,  1.10078858e+00],\n",
       "       [ 6.23940524e-01, -1.90232396e+00],\n",
       "       [-4.68878268e-01,  5.12607847e-01],\n",
       "       [-6.04392624e-02,  1.00664435e+00],\n",
       "       [ 1.23673373e+00, -2.62496985e-01],\n",
       "       [-3.18487981e-01, -4.13768261e-01],\n",
       "       [-7.87618309e-01, -4.12715845e-01],\n",
       "       [-3.33089492e-01,  1.55526210e+00],\n",
       "       [ 2.04508304e+00, -2.01164374e+00],\n",
       "       [ 2.43281935e+00,  2.69532200e-01],\n",
       "       [-3.12607319e-01,  1.06012741e+00],\n",
       "       [-7.69638787e-02,  8.40076613e-01],\n",
       "       [ 7.93137800e-01,  7.45498621e-02],\n",
       "       [ 1.23845804e+00, -6.24677701e-01],\n",
       "       [-7.05122854e-01, -3.73625527e-01],\n",
       "       [-9.09666360e-02,  2.03520121e-02],\n",
       "       [-1.19803926e+00, -7.27881391e-01],\n",
       "       [ 9.54593386e-01, -3.51382259e-01],\n",
       "       [-7.24293579e-01,  3.63941365e-02],\n",
       "       [-3.45103736e-01,  1.01870828e+00],\n",
       "       [-2.72626011e-01, -1.40197861e+00],\n",
       "       [-9.53849842e-01, -6.20038264e-01],\n",
       "       [-1.86749268e-01, -1.49514137e-01],\n",
       "       [-1.38786084e+00,  4.66264822e-01],\n",
       "       [-7.64856122e-01, -1.17829996e+00],\n",
       "       [ 7.30100969e-01, -7.17314561e-02],\n",
       "       [ 2.57011205e-01, -1.66206525e+00]])"
      ]
     },
     "execution_count": 73,
     "metadata": {},
     "output_type": "execute_result"
    }
   ],
   "source": [
    "X"
   ]
  },
  {
   "cell_type": "code",
   "execution_count": 74,
   "metadata": {},
   "outputs": [
    {
     "data": {
      "text/plain": [
       "array([ -39.78635687,  -50.57597122,  -68.21482251,  -33.62462639,\n",
       "        -13.19307098,  -14.21546768,  -70.86427556,  111.09902089,\n",
       "         19.79992776,   57.54995191,   20.14060971,  -69.10562271,\n",
       "        -14.70319701,  -55.44910059,  -40.13047509,   56.70949295,\n",
       "         80.74378072,   31.12576734,   30.11374921,   -8.38480368,\n",
       "          4.72173928,   19.1346355 ,    7.97296031,   41.54193725,\n",
       "        -26.66895137,  -13.18370572,   78.475488  ,  -21.20782747,\n",
       "        -58.54135864,   44.26601021,  -11.18980818,  -42.12977497,\n",
       "         85.27152684,  -39.53269805,   54.20097032,   -3.7862789 ,\n",
       "         30.95582287,  -35.12952602,  -61.73718539,  -14.19481282,\n",
       "          2.44570628,   31.24837236,   63.38953524,  -31.67801096,\n",
       "         18.66975294,   43.57060248,   46.6598836 ,    4.81804972,\n",
       "         12.50061087,   29.5237939 , -109.6804701 ,  -12.13580223,\n",
       "        -79.50225304,   21.03691689, -130.07314049,   -2.33068621,\n",
       "        -17.42150491,  -22.83598235,   62.22075054,   11.6433632 ,\n",
       "        -19.5921655 , -115.86728971, -102.46110651,    5.73149297,\n",
       "        -11.69534743,    2.61849106,   83.11426725,  -28.24228782,\n",
       "         46.0146846 ,   13.04817783,    3.25904183,    2.77347033,\n",
       "        -48.44668203,   -8.90248287,  -36.12280193,   44.12541553,\n",
       "        -53.06663295,  -13.31108178,  -40.07605242,   11.93692097,\n",
       "        -39.87217997,   49.39551569,    4.52245871,   70.02451189,\n",
       "        -54.02216177,   31.46324999,   54.21707895,   48.26605345,\n",
       "         60.03187889,   62.09358331,  -40.6133933 ,   44.39562783,\n",
       "         -9.73459245,   -8.07804045,   16.94115598,    0.23375618,\n",
       "         48.96862965,   31.61490778,  129.58665368,  -40.62710611,\n",
       "         23.92244855,  -11.26498197,  -49.15828048,  -67.96293876,\n",
       "          5.87913885,  -34.03491677,   50.13819301,  -24.28980114,\n",
       "        -74.65368958,   33.56068832,   16.04658214,    9.31274937,\n",
       "        -17.92690406,   24.18050338,  -29.13220843,   94.5338385 ,\n",
       "         41.37211776,  -17.26130497,  -20.92662432,   21.27815149,\n",
       "         74.29129884,   10.74143313, -120.55647747,   -6.95380211,\n",
       "        -35.03794143,  -26.1806891 ,  -20.48438418,  -28.88023483,\n",
       "        -13.0988844 ,   32.63532179,   22.90676588,   46.97244773,\n",
       "         55.69311829,  -59.3336409 ,    8.20429756,  -55.47353723,\n",
       "         19.5761208 ,  -76.24791294,  -65.94491786,    3.11424697,\n",
       "         58.90032443,  -47.65321029,   17.19664314,  -67.96641484,\n",
       "        -63.10610554,   22.33086641,  -94.6612628 ,  -55.37762204,\n",
       "         33.74048632,  -61.32857309])"
      ]
     },
     "execution_count": 74,
     "metadata": {},
     "output_type": "execute_result"
    }
   ],
   "source": [
    "y"
   ]
  },
  {
   "cell_type": "code",
   "execution_count": 76,
   "metadata": {},
   "outputs": [
    {
     "data": {
      "text/html": [
       "<div>\n",
       "<style scoped>\n",
       "    .dataframe tbody tr th:only-of-type {\n",
       "        vertical-align: middle;\n",
       "    }\n",
       "\n",
       "    .dataframe tbody tr th {\n",
       "        vertical-align: top;\n",
       "    }\n",
       "\n",
       "    .dataframe thead th {\n",
       "        text-align: right;\n",
       "    }\n",
       "</style>\n",
       "<table border=\"1\" class=\"dataframe\">\n",
       "  <thead>\n",
       "    <tr style=\"text-align: right;\">\n",
       "      <th></th>\n",
       "      <th>feature1</th>\n",
       "      <th>feature2</th>\n",
       "      <th>target</th>\n",
       "    </tr>\n",
       "  </thead>\n",
       "  <tbody>\n",
       "    <tr>\n",
       "      <th>0</th>\n",
       "      <td>-1.340913</td>\n",
       "      <td>1.461257</td>\n",
       "      <td>-39.786357</td>\n",
       "    </tr>\n",
       "    <tr>\n",
       "      <th>1</th>\n",
       "      <td>0.977955</td>\n",
       "      <td>-1.824973</td>\n",
       "      <td>-50.575971</td>\n",
       "    </tr>\n",
       "    <tr>\n",
       "      <th>2</th>\n",
       "      <td>1.005757</td>\n",
       "      <td>0.240889</td>\n",
       "      <td>-68.214823</td>\n",
       "    </tr>\n",
       "    <tr>\n",
       "      <th>3</th>\n",
       "      <td>-1.515239</td>\n",
       "      <td>0.423982</td>\n",
       "      <td>-33.624626</td>\n",
       "    </tr>\n",
       "    <tr>\n",
       "      <th>4</th>\n",
       "      <td>0.578369</td>\n",
       "      <td>-0.504652</td>\n",
       "      <td>-13.193071</td>\n",
       "    </tr>\n",
       "    <tr>\n",
       "      <th>...</th>\n",
       "      <td>...</td>\n",
       "      <td>...</td>\n",
       "      <td>...</td>\n",
       "    </tr>\n",
       "    <tr>\n",
       "      <th>145</th>\n",
       "      <td>-0.186749</td>\n",
       "      <td>-0.149514</td>\n",
       "      <td>22.330866</td>\n",
       "    </tr>\n",
       "    <tr>\n",
       "      <th>146</th>\n",
       "      <td>-1.387861</td>\n",
       "      <td>0.466265</td>\n",
       "      <td>-94.661263</td>\n",
       "    </tr>\n",
       "    <tr>\n",
       "      <th>147</th>\n",
       "      <td>-0.764856</td>\n",
       "      <td>-1.178300</td>\n",
       "      <td>-55.377622</td>\n",
       "    </tr>\n",
       "    <tr>\n",
       "      <th>148</th>\n",
       "      <td>0.730101</td>\n",
       "      <td>-0.071731</td>\n",
       "      <td>33.740486</td>\n",
       "    </tr>\n",
       "    <tr>\n",
       "      <th>149</th>\n",
       "      <td>0.257011</td>\n",
       "      <td>-1.662065</td>\n",
       "      <td>-61.328573</td>\n",
       "    </tr>\n",
       "  </tbody>\n",
       "</table>\n",
       "<p>150 rows × 3 columns</p>\n",
       "</div>"
      ],
      "text/plain": [
       "     feature1  feature2     target\n",
       "0   -1.340913  1.461257 -39.786357\n",
       "1    0.977955 -1.824973 -50.575971\n",
       "2    1.005757  0.240889 -68.214823\n",
       "3   -1.515239  0.423982 -33.624626\n",
       "4    0.578369 -0.504652 -13.193071\n",
       "..        ...       ...        ...\n",
       "145 -0.186749 -0.149514  22.330866\n",
       "146 -1.387861  0.466265 -94.661263\n",
       "147 -0.764856 -1.178300 -55.377622\n",
       "148  0.730101 -0.071731  33.740486\n",
       "149  0.257011 -1.662065 -61.328573\n",
       "\n",
       "[150 rows x 3 columns]"
      ]
     },
     "execution_count": 76,
     "metadata": {},
     "output_type": "execute_result"
    }
   ],
   "source": [
    "df = pd.DataFrame({'feature1': X[:,0], 'feature2':X[:,1], 'target':y})\n",
    "df"
   ]
  },
  {
   "cell_type": "code",
   "execution_count": 77,
   "metadata": {},
   "outputs": [
    {
     "data": {
      "text/plain": [
       "(150, 3)"
      ]
     },
     "execution_count": 77,
     "metadata": {},
     "output_type": "execute_result"
    }
   ],
   "source": [
    "df.shape"
   ]
  },
  {
   "cell_type": "code",
   "execution_count": 79,
   "metadata": {},
   "outputs": [
    {
     "ename": "ValueError",
     "evalue": "Mime type rendering requires nbformat>=4.2.0 but it is not installed",
     "output_type": "error",
     "traceback": [
      "\u001b[1;31m---------------------------------------------------------------------------\u001b[0m",
      "\u001b[1;31mValueError\u001b[0m                                Traceback (most recent call last)",
      "File \u001b[1;32mf:\\Ineuron\\Notes\\venv\\lib\\site-packages\\IPython\\core\\formatters.py:922\u001b[0m, in \u001b[0;36mIPythonDisplayFormatter.__call__\u001b[1;34m(self, obj)\u001b[0m\n\u001b[0;32m    920\u001b[0m method \u001b[39m=\u001b[39m get_real_method(obj, \u001b[39mself\u001b[39m\u001b[39m.\u001b[39mprint_method)\n\u001b[0;32m    921\u001b[0m \u001b[39mif\u001b[39;00m method \u001b[39mis\u001b[39;00m \u001b[39mnot\u001b[39;00m \u001b[39mNone\u001b[39;00m:\n\u001b[1;32m--> 922\u001b[0m     method()\n\u001b[0;32m    923\u001b[0m     \u001b[39mreturn\u001b[39;00m \u001b[39mTrue\u001b[39;00m\n",
      "File \u001b[1;32mf:\\Ineuron\\Notes\\venv\\lib\\site-packages\\plotly\\basedatatypes.py:834\u001b[0m, in \u001b[0;36mBaseFigure._ipython_display_\u001b[1;34m(self)\u001b[0m\n\u001b[0;32m    831\u001b[0m \u001b[39mimport\u001b[39;00m \u001b[39mplotly\u001b[39;00m\u001b[39m.\u001b[39;00m\u001b[39mio\u001b[39;00m \u001b[39mas\u001b[39;00m \u001b[39mpio\u001b[39;00m\n\u001b[0;32m    833\u001b[0m \u001b[39mif\u001b[39;00m pio\u001b[39m.\u001b[39mrenderers\u001b[39m.\u001b[39mrender_on_display \u001b[39mand\u001b[39;00m pio\u001b[39m.\u001b[39mrenderers\u001b[39m.\u001b[39mdefault:\n\u001b[1;32m--> 834\u001b[0m     pio\u001b[39m.\u001b[39;49mshow(\u001b[39mself\u001b[39;49m)\n\u001b[0;32m    835\u001b[0m \u001b[39melse\u001b[39;00m:\n\u001b[0;32m    836\u001b[0m     \u001b[39mprint\u001b[39m(\u001b[39mrepr\u001b[39m(\u001b[39mself\u001b[39m))\n",
      "File \u001b[1;32mf:\\Ineuron\\Notes\\venv\\lib\\site-packages\\plotly\\io\\_renderers.py:396\u001b[0m, in \u001b[0;36mshow\u001b[1;34m(fig, renderer, validate, **kwargs)\u001b[0m\n\u001b[0;32m    391\u001b[0m         \u001b[39mraise\u001b[39;00m \u001b[39mValueError\u001b[39;00m(\n\u001b[0;32m    392\u001b[0m             \u001b[39m\"\u001b[39m\u001b[39mMime type rendering requires ipython but it is not installed\u001b[39m\u001b[39m\"\u001b[39m\n\u001b[0;32m    393\u001b[0m         )\n\u001b[0;32m    395\u001b[0m     \u001b[39mif\u001b[39;00m \u001b[39mnot\u001b[39;00m nbformat \u001b[39mor\u001b[39;00m Version(nbformat\u001b[39m.\u001b[39m__version__) \u001b[39m<\u001b[39m Version(\u001b[39m\"\u001b[39m\u001b[39m4.2.0\u001b[39m\u001b[39m\"\u001b[39m):\n\u001b[1;32m--> 396\u001b[0m         \u001b[39mraise\u001b[39;00m \u001b[39mValueError\u001b[39;00m(\n\u001b[0;32m    397\u001b[0m             \u001b[39m\"\u001b[39m\u001b[39mMime type rendering requires nbformat>=4.2.0 but it is not installed\u001b[39m\u001b[39m\"\u001b[39m\n\u001b[0;32m    398\u001b[0m         )\n\u001b[0;32m    400\u001b[0m     ipython_display\u001b[39m.\u001b[39mdisplay(bundle, raw\u001b[39m=\u001b[39m\u001b[39mTrue\u001b[39;00m)\n\u001b[0;32m    402\u001b[0m \u001b[39m# external renderers\u001b[39;00m\n",
      "\u001b[1;31mValueError\u001b[0m: Mime type rendering requires nbformat>=4.2.0 but it is not installed"
     ]
    },
    {
     "data": {
      "application/vnd.plotly.v1+json": {
       "config": {
        "plotlyServerURL": "https://plot.ly"
       },
       "data": [
        {
         "hovertemplate": "feature1=%{x}<br>feature2=%{y}<br>target=%{z}<extra></extra>",
         "legendgroup": "",
         "marker": {
          "color": "#636efa",
          "symbol": "circle"
         },
         "mode": "markers",
         "name": "",
         "scene": "scene",
         "showlegend": false,
         "type": "scatter3d",
         "x": [
          -1.340912719115305,
          0.9779549703108609,
          1.0057567695114338,
          -1.5152394252640888,
          0.5783694915136409,
          -0.056289985222786755,
          1.111225830582063,
          0.3384291144287087,
          1.3377408730387135,
          1.4383953113936447,
          0.14465844699322383,
          -0.9187639838325101,
          0.27938762916555543,
          -0.07002826092865047,
          -0.033343638379431696,
          0.5485597786688607,
          0.4179642533512686,
          2.0916105509690155,
          0.07325785122807543,
          -0.06408643169913966,
          -0.5142282235727759,
          -0.13007348708532274,
          -0.5731106007007394,
          -0.6252012858271422,
          -1.4589734089974193,
          1.8477623747829064,
          1.9916887670930734,
          -1.2724228684732046,
          -1.852479291881985,
          0.989555939633352,
          -0.4196160118112079,
          0.47191424057464804,
          1.6487175971511188,
          1.7981378580930656,
          0.5700081354187762,
          -0.4745836011565373,
          -0.2022193955964161,
          0.2220171318611958,
          -1.7312042473854201,
          -0.059025093308015926,
          -1.492062322337815,
          -0.5304842309506997,
          1.1979321240369867,
          0.06301655851214412,
          -0.39940781683612125,
          0.5223221008791549,
          1.1805240942223794,
          -1.4056057909590824,
          0.3113883240931105,
          1.8435923495777569,
          -1.9361792580670905,
          -0.2752129295676799,
          -1.4924202464193599,
          0.10731951206388447,
          -0.29893656751449815,
          0.40500772729790563,
          -0.6884246720545519,
          -0.21356117652723272,
          1.0454456633019842,
          0.49193083688343975,
          -1.1719813514720336,
          -0.10507913540699919,
          0.49579736738569596,
          -0.6731996935402196,
          -0.5165546666795731,
          1.4267818013326943,
          1.513933995365425,
          -0.710326582994946,
          1.0004088171000551,
          0.03537371875399424,
          -0.8138402996065206,
          -0.05764652760785753,
          -0.4017409746313891,
          -1.558452707128669,
          -0.9124079996041266,
          -1.0363447010902695,
          0.013930977202800827,
          -0.5091266032055686,
          0.4549428428307875,
          -1.1887562939161336,
          -0.931386985202384,
          -0.0015529303879436179,
          -0.30763004394154686,
          1.0927519938569485,
          -0.48769460906292156,
          0.5811817808303812,
          0.9725080455688533,
          1.7490309417125098,
          0.41731311843491625,
          -0.7834465406494975,
          -0.8043660999602656,
          1.1007664294962982,
          -0.8566642037288776,
          -0.8298615744717415,
          0.6935165950735187,
          -0.9288271952755955,
          1.524852327084086,
          1.4924735823320148,
          0.9027982775302548,
          -1.3117116090763297,
          -0.934236075975329,
          0.7811397442064852,
          -1.261551929172738,
          -1.308054173337328,
          -1.2731792336750034,
          -1.0041053809914178,
          0.19577397034715605,
          -0.10128944797517321,
          -0.9207491690417233,
          -0.2285806970076859,
          0.6728817384190743,
          0.13101909039790396,
          0.127371114657155,
          -1.543338939952742,
          0.47889759194660314,
          2.415380744814239,
          0.22194764498230993,
          0.5255983306572329,
          1.1018001776156894,
          -1.563738420704095,
          -0.19470319608092487,
          0.18931734437943784,
          -1.3433769141100083,
          -1.6909759091600816,
          0.6239405242996938,
          -0.46887826761189894,
          -0.06043926242306068,
          1.2367337328567833,
          -0.3184879811184124,
          -0.7876183089522761,
          -0.3330894924124248,
          2.045083040974808,
          2.4328193455883023,
          -0.3126073190397801,
          -0.07696387869825796,
          0.7931377996937644,
          1.2384580422327067,
          -0.705122853856331,
          -0.09096663596278334,
          -1.1980392573764882,
          0.9545933864042221,
          -0.7242935787161742,
          -0.34510373568135644,
          -0.27262601053259317,
          -0.9538498418643151,
          -0.1867492681796268,
          -1.3878608375115489,
          -0.7648561215046418,
          0.7301009687203099,
          0.25701120471793054
         ],
         "y": [
          1.461257185519608,
          -1.8249726390409453,
          0.24088918106546067,
          0.4239817108723807,
          -0.5046520605190403,
          0.6737451733717561,
          -1.214104438194957,
          0.9608088825874616,
          0.11117899115160491,
          0.7753507080974262,
          0.3319865347065772,
          -0.2800214624766281,
          0.2798593688325553,
          -0.7463878303678181,
          -0.0512708563708116,
          0.1528337639358741,
          0.2576519022261179,
          -0.34775852856259454,
          0.7720422456494334,
          0.17771806859125094,
          -1.7142942563591137,
          0.38435305920494933,
          -1.073356273961704,
          1.0424239303065006,
          -0.8526103422565606,
          -0.01428774475483794,
          0.47287172351545725,
          0.38958590577108365,
          0.49870782563877286,
          -0.08674296085593126,
          -0.448543913021184,
          0.5636418859707808,
          -0.15916149006346403,
          -1.3915790872800418,
          -1.1098891006735814,
          1.0302407367333077,
          -0.20342560247014413,
          -0.1496602079541415,
          -0.19804772462433812,
          -3.5035107463248503,
          -0.39390319468536955,
          -0.6815809433822173,
          1.1967211958480364,
          -1.3511058210218037,
          -2.57079248683982,
          -0.8947364736298105,
          1.430894253871066,
          0.4542712963365959,
          -0.8008344998946111,
          0.23675983930168829,
          -1.362332671645611,
          -0.9376638873660039,
          1.034257079087769,
          1.517081016765475,
          0.14185064709906414,
          2.022566831727506,
          0.12235454497297428,
          -0.6779054695622074,
          2.093382908329462,
          -1.4242373967823514,
          2.060566443760418,
          -0.47072961738754143,
          -0.4448411915991176,
          0.4294844893376673,
          -1.0989799323588034,
          -0.956254811357894,
          1.7147685512098483,
          -0.16468378649999718,
          0.1567539957157328,
          -0.11912224208998612,
          1.2628022584725804,
          -0.18410831946328035,
          0.5270548163154396,
          0.5890770910398858,
          -1.2824219668128558,
          0.3054432395746259,
          -0.8516401418348186,
          -0.8148979979502542,
          0.23359586204444804,
          0.9771990516241466,
          -0.21915138706752063,
          0.828963964135891,
          0.6341396258766964,
          0.2533643020152498,
          -1.231333472031048,
          0.8399144261917284,
          -0.13663802951896895,
          0.3061618266089481,
          0.8898326459252801,
          -0.6403540691538584,
          -0.09664829357931151,
          -0.9147417760320147,
          -0.7379444249363201,
          -1.2816139530021988,
          0.6692452876822207,
          0.8435784277399067,
          -0.6805011070113117,
          1.3650455330299276,
          0.646167765834025,
          -0.8445200898527528,
          2.235947970638717,
          0.551055066121514,
          -1.2685860087838396,
          1.2716432960822965,
          -1.5019114289348967,
          -0.9368033854335616,
          1.660019091549329,
          0.22838014286328012,
          -0.1499877202065082,
          -0.14332440656032877,
          -0.3863835426825261,
          0.5671990449161306,
          -0.9416162306228117,
          2.2863311575824268,
          -0.44418688777140874,
          -0.46453581933720034,
          -0.36911009698652797,
          -0.578038528340153,
          -0.6936634003272758,
          0.7774761183036286,
          -0.03463109474717248,
          0.7733529610965579,
          -2.179635256314708,
          1.1007885846066452,
          -1.902323962375109,
          0.5126078474512002,
          1.0066443488849346,
          -0.2624969845386794,
          -0.4137682605636501,
          -0.4127158451218091,
          1.5552621048191315,
          -2.0116437416307176,
          0.2695322002642498,
          1.0601274139447128,
          0.8400766131801604,
          0.07454986209703927,
          -0.624677700814228,
          -0.37362552748873007,
          0.02035201214721864,
          -0.7278813909248428,
          -0.35138225879327517,
          0.03639413651103531,
          1.018708284320481,
          -1.4019786077607912,
          -0.6200382635527354,
          -0.14951413671419925,
          0.46626482231485256,
          -1.1782999578368094,
          -0.07173145606487474,
          -1.6620652517138623
         ],
         "z": [
          -39.78635686986382,
          -50.57597122059236,
          -68.21482250941041,
          -33.62462638650811,
          -13.193070976358094,
          -14.215467681638746,
          -70.86427556386353,
          111.09902088753643,
          19.799927758655716,
          57.549951905796114,
          20.14060971362173,
          -69.10562271349114,
          -14.703197005322792,
          -55.449100589088495,
          -40.13047508890414,
          56.709492945307915,
          80.74378071840152,
          31.125767342280426,
          30.11374921327952,
          -8.38480367577299,
          4.721739277382589,
          19.134635495941065,
          7.97296031477125,
          41.5419372509788,
          -26.66895137389564,
          -13.18370572184049,
          78.47548799912431,
          -21.20782747078109,
          -58.541358636558336,
          44.26601020932395,
          -11.189808178394351,
          -42.129774970379174,
          85.27152684154566,
          -39.53269804952838,
          54.20097031681269,
          -3.786278898463488,
          30.95582286715206,
          -35.12952602164948,
          -61.73718539019567,
          -14.194812819454796,
          2.4457062751487157,
          31.248372364385837,
          63.38953523937319,
          -31.67801095799873,
          18.669752940015208,
          43.57060248357598,
          46.659883599037414,
          4.818049724195578,
          12.500610867906673,
          29.523793899446254,
          -109.68047009563784,
          -12.135802228490071,
          -79.50225303700083,
          21.036916891551733,
          -130.07314049283818,
          -2.330686209398152,
          -17.421504906877985,
          -22.83598235370968,
          62.22075053668373,
          11.643363198883948,
          -19.592165501918366,
          -115.86728971170602,
          -102.46110651396455,
          5.731492971184485,
          -11.695347425937218,
          2.618491058886688,
          83.11426724699103,
          -28.242287821021705,
          46.014684600877814,
          13.048177833511314,
          3.259041832207157,
          2.773470329424396,
          -48.44668202918673,
          -8.902482865787526,
          -36.12280193293255,
          44.12541552609454,
          -53.06663295063417,
          -13.311081778210697,
          -40.07605242424959,
          11.936920971558974,
          -39.872179971219026,
          49.39551569420868,
          4.522458707719839,
          70.02451188853581,
          -54.02216177445953,
          31.463249985561728,
          54.21707894773191,
          48.26605344664692,
          60.03187888642151,
          62.09358330676807,
          -40.61339330094502,
          44.3956278319401,
          -9.734592450628796,
          -8.078040453270035,
          16.941155980673898,
          0.23375618057974368,
          48.96862965426418,
          31.614907781970302,
          129.5866536821368,
          -40.627106108343185,
          23.922448550705628,
          -11.26498196753436,
          -49.158280477986885,
          -67.96293876480591,
          5.879138851313861,
          -34.0349167653899,
          50.138193009170614,
          -24.289801139168553,
          -74.65368957638074,
          33.5606883235747,
          16.04658213887365,
          9.312749366992627,
          -17.926904060603505,
          24.180503384110214,
          -29.13220842646221,
          94.53383849837218,
          41.37211776246593,
          -17.261304971402257,
          -20.926624323971975,
          21.27815149101921,
          74.29129884006112,
          10.7414331270857,
          -120.5564774744217,
          -6.95380211455883,
          -35.03794142510955,
          -26.180689096303098,
          -20.484384180250768,
          -28.88023482839182,
          -13.098884397850199,
          32.63532179006898,
          22.906765884325072,
          46.97244773379832,
          55.6931182934098,
          -59.33364090021324,
          8.204297555667825,
          -55.473537225864874,
          19.576120798867144,
          -76.24791293571913,
          -65.94491786187835,
          3.1142469732410163,
          58.900324429055736,
          -47.653210292739374,
          17.196643136487747,
          -67.96641483758631,
          -63.10610554258696,
          22.330866413732544,
          -94.66126280288927,
          -55.377622040854206,
          33.74048632336767,
          -61.32857308688054
         ]
        }
       ],
       "layout": {
        "legend": {
         "tracegroupgap": 0
        },
        "margin": {
         "t": 60
        },
        "scene": {
         "domain": {
          "x": [
           0,
           1
          ],
          "y": [
           0,
           1
          ]
         },
         "xaxis": {
          "title": {
           "text": "feature1"
          }
         },
         "yaxis": {
          "title": {
           "text": "feature2"
          }
         },
         "zaxis": {
          "title": {
           "text": "target"
          }
         }
        },
        "template": {
         "data": {
          "bar": [
           {
            "error_x": {
             "color": "#2a3f5f"
            },
            "error_y": {
             "color": "#2a3f5f"
            },
            "marker": {
             "line": {
              "color": "#E5ECF6",
              "width": 0.5
             },
             "pattern": {
              "fillmode": "overlay",
              "size": 10,
              "solidity": 0.2
             }
            },
            "type": "bar"
           }
          ],
          "barpolar": [
           {
            "marker": {
             "line": {
              "color": "#E5ECF6",
              "width": 0.5
             },
             "pattern": {
              "fillmode": "overlay",
              "size": 10,
              "solidity": 0.2
             }
            },
            "type": "barpolar"
           }
          ],
          "carpet": [
           {
            "aaxis": {
             "endlinecolor": "#2a3f5f",
             "gridcolor": "white",
             "linecolor": "white",
             "minorgridcolor": "white",
             "startlinecolor": "#2a3f5f"
            },
            "baxis": {
             "endlinecolor": "#2a3f5f",
             "gridcolor": "white",
             "linecolor": "white",
             "minorgridcolor": "white",
             "startlinecolor": "#2a3f5f"
            },
            "type": "carpet"
           }
          ],
          "choropleth": [
           {
            "colorbar": {
             "outlinewidth": 0,
             "ticks": ""
            },
            "type": "choropleth"
           }
          ],
          "contour": [
           {
            "colorbar": {
             "outlinewidth": 0,
             "ticks": ""
            },
            "colorscale": [
             [
              0,
              "#0d0887"
             ],
             [
              0.1111111111111111,
              "#46039f"
             ],
             [
              0.2222222222222222,
              "#7201a8"
             ],
             [
              0.3333333333333333,
              "#9c179e"
             ],
             [
              0.4444444444444444,
              "#bd3786"
             ],
             [
              0.5555555555555556,
              "#d8576b"
             ],
             [
              0.6666666666666666,
              "#ed7953"
             ],
             [
              0.7777777777777778,
              "#fb9f3a"
             ],
             [
              0.8888888888888888,
              "#fdca26"
             ],
             [
              1,
              "#f0f921"
             ]
            ],
            "type": "contour"
           }
          ],
          "contourcarpet": [
           {
            "colorbar": {
             "outlinewidth": 0,
             "ticks": ""
            },
            "type": "contourcarpet"
           }
          ],
          "heatmap": [
           {
            "colorbar": {
             "outlinewidth": 0,
             "ticks": ""
            },
            "colorscale": [
             [
              0,
              "#0d0887"
             ],
             [
              0.1111111111111111,
              "#46039f"
             ],
             [
              0.2222222222222222,
              "#7201a8"
             ],
             [
              0.3333333333333333,
              "#9c179e"
             ],
             [
              0.4444444444444444,
              "#bd3786"
             ],
             [
              0.5555555555555556,
              "#d8576b"
             ],
             [
              0.6666666666666666,
              "#ed7953"
             ],
             [
              0.7777777777777778,
              "#fb9f3a"
             ],
             [
              0.8888888888888888,
              "#fdca26"
             ],
             [
              1,
              "#f0f921"
             ]
            ],
            "type": "heatmap"
           }
          ],
          "heatmapgl": [
           {
            "colorbar": {
             "outlinewidth": 0,
             "ticks": ""
            },
            "colorscale": [
             [
              0,
              "#0d0887"
             ],
             [
              0.1111111111111111,
              "#46039f"
             ],
             [
              0.2222222222222222,
              "#7201a8"
             ],
             [
              0.3333333333333333,
              "#9c179e"
             ],
             [
              0.4444444444444444,
              "#bd3786"
             ],
             [
              0.5555555555555556,
              "#d8576b"
             ],
             [
              0.6666666666666666,
              "#ed7953"
             ],
             [
              0.7777777777777778,
              "#fb9f3a"
             ],
             [
              0.8888888888888888,
              "#fdca26"
             ],
             [
              1,
              "#f0f921"
             ]
            ],
            "type": "heatmapgl"
           }
          ],
          "histogram": [
           {
            "marker": {
             "pattern": {
              "fillmode": "overlay",
              "size": 10,
              "solidity": 0.2
             }
            },
            "type": "histogram"
           }
          ],
          "histogram2d": [
           {
            "colorbar": {
             "outlinewidth": 0,
             "ticks": ""
            },
            "colorscale": [
             [
              0,
              "#0d0887"
             ],
             [
              0.1111111111111111,
              "#46039f"
             ],
             [
              0.2222222222222222,
              "#7201a8"
             ],
             [
              0.3333333333333333,
              "#9c179e"
             ],
             [
              0.4444444444444444,
              "#bd3786"
             ],
             [
              0.5555555555555556,
              "#d8576b"
             ],
             [
              0.6666666666666666,
              "#ed7953"
             ],
             [
              0.7777777777777778,
              "#fb9f3a"
             ],
             [
              0.8888888888888888,
              "#fdca26"
             ],
             [
              1,
              "#f0f921"
             ]
            ],
            "type": "histogram2d"
           }
          ],
          "histogram2dcontour": [
           {
            "colorbar": {
             "outlinewidth": 0,
             "ticks": ""
            },
            "colorscale": [
             [
              0,
              "#0d0887"
             ],
             [
              0.1111111111111111,
              "#46039f"
             ],
             [
              0.2222222222222222,
              "#7201a8"
             ],
             [
              0.3333333333333333,
              "#9c179e"
             ],
             [
              0.4444444444444444,
              "#bd3786"
             ],
             [
              0.5555555555555556,
              "#d8576b"
             ],
             [
              0.6666666666666666,
              "#ed7953"
             ],
             [
              0.7777777777777778,
              "#fb9f3a"
             ],
             [
              0.8888888888888888,
              "#fdca26"
             ],
             [
              1,
              "#f0f921"
             ]
            ],
            "type": "histogram2dcontour"
           }
          ],
          "mesh3d": [
           {
            "colorbar": {
             "outlinewidth": 0,
             "ticks": ""
            },
            "type": "mesh3d"
           }
          ],
          "parcoords": [
           {
            "line": {
             "colorbar": {
              "outlinewidth": 0,
              "ticks": ""
             }
            },
            "type": "parcoords"
           }
          ],
          "pie": [
           {
            "automargin": true,
            "type": "pie"
           }
          ],
          "scatter": [
           {
            "fillpattern": {
             "fillmode": "overlay",
             "size": 10,
             "solidity": 0.2
            },
            "type": "scatter"
           }
          ],
          "scatter3d": [
           {
            "line": {
             "colorbar": {
              "outlinewidth": 0,
              "ticks": ""
             }
            },
            "marker": {
             "colorbar": {
              "outlinewidth": 0,
              "ticks": ""
             }
            },
            "type": "scatter3d"
           }
          ],
          "scattercarpet": [
           {
            "marker": {
             "colorbar": {
              "outlinewidth": 0,
              "ticks": ""
             }
            },
            "type": "scattercarpet"
           }
          ],
          "scattergeo": [
           {
            "marker": {
             "colorbar": {
              "outlinewidth": 0,
              "ticks": ""
             }
            },
            "type": "scattergeo"
           }
          ],
          "scattergl": [
           {
            "marker": {
             "colorbar": {
              "outlinewidth": 0,
              "ticks": ""
             }
            },
            "type": "scattergl"
           }
          ],
          "scattermapbox": [
           {
            "marker": {
             "colorbar": {
              "outlinewidth": 0,
              "ticks": ""
             }
            },
            "type": "scattermapbox"
           }
          ],
          "scatterpolar": [
           {
            "marker": {
             "colorbar": {
              "outlinewidth": 0,
              "ticks": ""
             }
            },
            "type": "scatterpolar"
           }
          ],
          "scatterpolargl": [
           {
            "marker": {
             "colorbar": {
              "outlinewidth": 0,
              "ticks": ""
             }
            },
            "type": "scatterpolargl"
           }
          ],
          "scatterternary": [
           {
            "marker": {
             "colorbar": {
              "outlinewidth": 0,
              "ticks": ""
             }
            },
            "type": "scatterternary"
           }
          ],
          "surface": [
           {
            "colorbar": {
             "outlinewidth": 0,
             "ticks": ""
            },
            "colorscale": [
             [
              0,
              "#0d0887"
             ],
             [
              0.1111111111111111,
              "#46039f"
             ],
             [
              0.2222222222222222,
              "#7201a8"
             ],
             [
              0.3333333333333333,
              "#9c179e"
             ],
             [
              0.4444444444444444,
              "#bd3786"
             ],
             [
              0.5555555555555556,
              "#d8576b"
             ],
             [
              0.6666666666666666,
              "#ed7953"
             ],
             [
              0.7777777777777778,
              "#fb9f3a"
             ],
             [
              0.8888888888888888,
              "#fdca26"
             ],
             [
              1,
              "#f0f921"
             ]
            ],
            "type": "surface"
           }
          ],
          "table": [
           {
            "cells": {
             "fill": {
              "color": "#EBF0F8"
             },
             "line": {
              "color": "white"
             }
            },
            "header": {
             "fill": {
              "color": "#C8D4E3"
             },
             "line": {
              "color": "white"
             }
            },
            "type": "table"
           }
          ]
         },
         "layout": {
          "annotationdefaults": {
           "arrowcolor": "#2a3f5f",
           "arrowhead": 0,
           "arrowwidth": 1
          },
          "autotypenumbers": "strict",
          "coloraxis": {
           "colorbar": {
            "outlinewidth": 0,
            "ticks": ""
           }
          },
          "colorscale": {
           "diverging": [
            [
             0,
             "#8e0152"
            ],
            [
             0.1,
             "#c51b7d"
            ],
            [
             0.2,
             "#de77ae"
            ],
            [
             0.3,
             "#f1b6da"
            ],
            [
             0.4,
             "#fde0ef"
            ],
            [
             0.5,
             "#f7f7f7"
            ],
            [
             0.6,
             "#e6f5d0"
            ],
            [
             0.7,
             "#b8e186"
            ],
            [
             0.8,
             "#7fbc41"
            ],
            [
             0.9,
             "#4d9221"
            ],
            [
             1,
             "#276419"
            ]
           ],
           "sequential": [
            [
             0,
             "#0d0887"
            ],
            [
             0.1111111111111111,
             "#46039f"
            ],
            [
             0.2222222222222222,
             "#7201a8"
            ],
            [
             0.3333333333333333,
             "#9c179e"
            ],
            [
             0.4444444444444444,
             "#bd3786"
            ],
            [
             0.5555555555555556,
             "#d8576b"
            ],
            [
             0.6666666666666666,
             "#ed7953"
            ],
            [
             0.7777777777777778,
             "#fb9f3a"
            ],
            [
             0.8888888888888888,
             "#fdca26"
            ],
            [
             1,
             "#f0f921"
            ]
           ],
           "sequentialminus": [
            [
             0,
             "#0d0887"
            ],
            [
             0.1111111111111111,
             "#46039f"
            ],
            [
             0.2222222222222222,
             "#7201a8"
            ],
            [
             0.3333333333333333,
             "#9c179e"
            ],
            [
             0.4444444444444444,
             "#bd3786"
            ],
            [
             0.5555555555555556,
             "#d8576b"
            ],
            [
             0.6666666666666666,
             "#ed7953"
            ],
            [
             0.7777777777777778,
             "#fb9f3a"
            ],
            [
             0.8888888888888888,
             "#fdca26"
            ],
            [
             1,
             "#f0f921"
            ]
           ]
          },
          "colorway": [
           "#636efa",
           "#EF553B",
           "#00cc96",
           "#ab63fa",
           "#FFA15A",
           "#19d3f3",
           "#FF6692",
           "#B6E880",
           "#FF97FF",
           "#FECB52"
          ],
          "font": {
           "color": "#2a3f5f"
          },
          "geo": {
           "bgcolor": "white",
           "lakecolor": "white",
           "landcolor": "#E5ECF6",
           "showlakes": true,
           "showland": true,
           "subunitcolor": "white"
          },
          "hoverlabel": {
           "align": "left"
          },
          "hovermode": "closest",
          "mapbox": {
           "style": "light"
          },
          "paper_bgcolor": "white",
          "plot_bgcolor": "#E5ECF6",
          "polar": {
           "angularaxis": {
            "gridcolor": "white",
            "linecolor": "white",
            "ticks": ""
           },
           "bgcolor": "#E5ECF6",
           "radialaxis": {
            "gridcolor": "white",
            "linecolor": "white",
            "ticks": ""
           }
          },
          "scene": {
           "xaxis": {
            "backgroundcolor": "#E5ECF6",
            "gridcolor": "white",
            "gridwidth": 2,
            "linecolor": "white",
            "showbackground": true,
            "ticks": "",
            "zerolinecolor": "white"
           },
           "yaxis": {
            "backgroundcolor": "#E5ECF6",
            "gridcolor": "white",
            "gridwidth": 2,
            "linecolor": "white",
            "showbackground": true,
            "ticks": "",
            "zerolinecolor": "white"
           },
           "zaxis": {
            "backgroundcolor": "#E5ECF6",
            "gridcolor": "white",
            "gridwidth": 2,
            "linecolor": "white",
            "showbackground": true,
            "ticks": "",
            "zerolinecolor": "white"
           }
          },
          "shapedefaults": {
           "line": {
            "color": "#2a3f5f"
           }
          },
          "ternary": {
           "aaxis": {
            "gridcolor": "white",
            "linecolor": "white",
            "ticks": ""
           },
           "baxis": {
            "gridcolor": "white",
            "linecolor": "white",
            "ticks": ""
           },
           "bgcolor": "#E5ECF6",
           "caxis": {
            "gridcolor": "white",
            "linecolor": "white",
            "ticks": ""
           }
          },
          "title": {
           "x": 0.05
          },
          "xaxis": {
           "automargin": true,
           "gridcolor": "white",
           "linecolor": "white",
           "ticks": "",
           "title": {
            "standoff": 15
           },
           "zerolinecolor": "white",
           "zerolinewidth": 2
          },
          "yaxis": {
           "automargin": true,
           "gridcolor": "white",
           "linecolor": "white",
           "ticks": "",
           "title": {
            "standoff": 15
           },
           "zerolinecolor": "white",
           "zerolinewidth": 2
          }
         }
        }
       }
      },
      "text/html": [
       "<div>                        <script type=\"text/javascript\">window.PlotlyConfig = {MathJaxConfig: 'local'};</script>\n",
       "        <script charset=\"utf-8\" src=\"https://cdn.plot.ly/plotly-2.26.0.min.js\"></script>                <div id=\"511a21cc-8cea-4f17-b8a1-2fd808076147\" class=\"plotly-graph-div\" style=\"height:100%; width:100%;\"></div>            <script type=\"text/javascript\">                                    window.PLOTLYENV=window.PLOTLYENV || {};                                    if (document.getElementById(\"511a21cc-8cea-4f17-b8a1-2fd808076147\")) {                    Plotly.newPlot(                        \"511a21cc-8cea-4f17-b8a1-2fd808076147\",                        [{\"hovertemplate\":\"feature1=%{x}\\u003cbr\\u003efeature2=%{y}\\u003cbr\\u003etarget=%{z}\\u003cextra\\u003e\\u003c\\u002fextra\\u003e\",\"legendgroup\":\"\",\"marker\":{\"color\":\"#636efa\",\"symbol\":\"circle\"},\"mode\":\"markers\",\"name\":\"\",\"scene\":\"scene\",\"showlegend\":false,\"x\":[-1.340912719115305,0.9779549703108609,1.0057567695114338,-1.5152394252640888,0.5783694915136409,-0.056289985222786755,1.111225830582063,0.3384291144287087,1.3377408730387135,1.4383953113936447,0.14465844699322383,-0.9187639838325101,0.27938762916555543,-0.07002826092865047,-0.033343638379431696,0.5485597786688607,0.4179642533512686,2.0916105509690155,0.07325785122807543,-0.06408643169913966,-0.5142282235727759,-0.13007348708532274,-0.5731106007007394,-0.6252012858271422,-1.4589734089974193,1.8477623747829064,1.9916887670930734,-1.2724228684732046,-1.852479291881985,0.989555939633352,-0.4196160118112079,0.47191424057464804,1.6487175971511188,1.7981378580930656,0.5700081354187762,-0.4745836011565373,-0.2022193955964161,0.2220171318611958,-1.7312042473854201,-0.059025093308015926,-1.492062322337815,-0.5304842309506997,1.1979321240369867,0.06301655851214412,-0.39940781683612125,0.5223221008791549,1.1805240942223794,-1.4056057909590824,0.3113883240931105,1.8435923495777569,-1.9361792580670905,-0.2752129295676799,-1.4924202464193599,0.10731951206388447,-0.29893656751449815,0.40500772729790563,-0.6884246720545519,-0.21356117652723272,1.0454456633019842,0.49193083688343975,-1.1719813514720336,-0.10507913540699919,0.49579736738569596,-0.6731996935402196,-0.5165546666795731,1.4267818013326943,1.513933995365425,-0.710326582994946,1.0004088171000551,0.03537371875399424,-0.8138402996065206,-0.05764652760785753,-0.4017409746313891,-1.558452707128669,-0.9124079996041266,-1.0363447010902695,0.013930977202800827,-0.5091266032055686,0.4549428428307875,-1.1887562939161336,-0.931386985202384,-0.0015529303879436179,-0.30763004394154686,1.0927519938569485,-0.48769460906292156,0.5811817808303812,0.9725080455688533,1.7490309417125098,0.41731311843491625,-0.7834465406494975,-0.8043660999602656,1.1007664294962982,-0.8566642037288776,-0.8298615744717415,0.6935165950735187,-0.9288271952755955,1.524852327084086,1.4924735823320148,0.9027982775302548,-1.3117116090763297,-0.934236075975329,0.7811397442064852,-1.261551929172738,-1.308054173337328,-1.2731792336750034,-1.0041053809914178,0.19577397034715605,-0.10128944797517321,-0.9207491690417233,-0.2285806970076859,0.6728817384190743,0.13101909039790396,0.127371114657155,-1.543338939952742,0.47889759194660314,2.415380744814239,0.22194764498230993,0.5255983306572329,1.1018001776156894,-1.563738420704095,-0.19470319608092487,0.18931734437943784,-1.3433769141100083,-1.6909759091600816,0.6239405242996938,-0.46887826761189894,-0.06043926242306068,1.2367337328567833,-0.3184879811184124,-0.7876183089522761,-0.3330894924124248,2.045083040974808,2.4328193455883023,-0.3126073190397801,-0.07696387869825796,0.7931377996937644,1.2384580422327067,-0.705122853856331,-0.09096663596278334,-1.1980392573764882,0.9545933864042221,-0.7242935787161742,-0.34510373568135644,-0.27262601053259317,-0.9538498418643151,-0.1867492681796268,-1.3878608375115489,-0.7648561215046418,0.7301009687203099,0.25701120471793054],\"y\":[1.461257185519608,-1.8249726390409453,0.24088918106546067,0.4239817108723807,-0.5046520605190403,0.6737451733717561,-1.214104438194957,0.9608088825874616,0.11117899115160491,0.7753507080974262,0.3319865347065772,-0.2800214624766281,0.2798593688325553,-0.7463878303678181,-0.0512708563708116,0.1528337639358741,0.2576519022261179,-0.34775852856259454,0.7720422456494334,0.17771806859125094,-1.7142942563591137,0.38435305920494933,-1.073356273961704,1.0424239303065006,-0.8526103422565606,-0.01428774475483794,0.47287172351545725,0.38958590577108365,0.49870782563877286,-0.08674296085593126,-0.448543913021184,0.5636418859707808,-0.15916149006346403,-1.3915790872800418,-1.1098891006735814,1.0302407367333077,-0.20342560247014413,-0.1496602079541415,-0.19804772462433812,-3.5035107463248503,-0.39390319468536955,-0.6815809433822173,1.1967211958480364,-1.3511058210218037,-2.57079248683982,-0.8947364736298105,1.430894253871066,0.4542712963365959,-0.8008344998946111,0.23675983930168829,-1.362332671645611,-0.9376638873660039,1.034257079087769,1.517081016765475,0.14185064709906414,2.022566831727506,0.12235454497297428,-0.6779054695622074,2.093382908329462,-1.4242373967823514,2.060566443760418,-0.47072961738754143,-0.4448411915991176,0.4294844893376673,-1.0989799323588034,-0.956254811357894,1.7147685512098483,-0.16468378649999718,0.1567539957157328,-0.11912224208998612,1.2628022584725804,-0.18410831946328035,0.5270548163154396,0.5890770910398858,-1.2824219668128558,0.3054432395746259,-0.8516401418348186,-0.8148979979502542,0.23359586204444804,0.9771990516241466,-0.21915138706752063,0.828963964135891,0.6341396258766964,0.2533643020152498,-1.231333472031048,0.8399144261917284,-0.13663802951896895,0.3061618266089481,0.8898326459252801,-0.6403540691538584,-0.09664829357931151,-0.9147417760320147,-0.7379444249363201,-1.2816139530021988,0.6692452876822207,0.8435784277399067,-0.6805011070113117,1.3650455330299276,0.646167765834025,-0.8445200898527528,2.235947970638717,0.551055066121514,-1.2685860087838396,1.2716432960822965,-1.5019114289348967,-0.9368033854335616,1.660019091549329,0.22838014286328012,-0.1499877202065082,-0.14332440656032877,-0.3863835426825261,0.5671990449161306,-0.9416162306228117,2.2863311575824268,-0.44418688777140874,-0.46453581933720034,-0.36911009698652797,-0.578038528340153,-0.6936634003272758,0.7774761183036286,-0.03463109474717248,0.7733529610965579,-2.179635256314708,1.1007885846066452,-1.902323962375109,0.5126078474512002,1.0066443488849346,-0.2624969845386794,-0.4137682605636501,-0.4127158451218091,1.5552621048191315,-2.0116437416307176,0.2695322002642498,1.0601274139447128,0.8400766131801604,0.07454986209703927,-0.624677700814228,-0.37362552748873007,0.02035201214721864,-0.7278813909248428,-0.35138225879327517,0.03639413651103531,1.018708284320481,-1.4019786077607912,-0.6200382635527354,-0.14951413671419925,0.46626482231485256,-1.1782999578368094,-0.07173145606487474,-1.6620652517138623],\"z\":[-39.78635686986382,-50.57597122059236,-68.21482250941041,-33.62462638650811,-13.193070976358094,-14.215467681638746,-70.86427556386353,111.09902088753643,19.799927758655716,57.549951905796114,20.14060971362173,-69.10562271349114,-14.703197005322792,-55.449100589088495,-40.13047508890414,56.709492945307915,80.74378071840152,31.125767342280426,30.11374921327952,-8.38480367577299,4.721739277382589,19.134635495941065,7.97296031477125,41.5419372509788,-26.66895137389564,-13.18370572184049,78.47548799912431,-21.20782747078109,-58.541358636558336,44.26601020932395,-11.189808178394351,-42.129774970379174,85.27152684154566,-39.53269804952838,54.20097031681269,-3.786278898463488,30.95582286715206,-35.12952602164948,-61.73718539019567,-14.194812819454796,2.4457062751487157,31.248372364385837,63.38953523937319,-31.67801095799873,18.669752940015208,43.57060248357598,46.659883599037414,4.818049724195578,12.500610867906673,29.523793899446254,-109.68047009563784,-12.135802228490071,-79.50225303700083,21.036916891551733,-130.07314049283818,-2.330686209398152,-17.421504906877985,-22.83598235370968,62.22075053668373,11.643363198883948,-19.592165501918366,-115.86728971170602,-102.46110651396455,5.731492971184485,-11.695347425937218,2.618491058886688,83.11426724699103,-28.242287821021705,46.014684600877814,13.048177833511314,3.259041832207157,2.773470329424396,-48.44668202918673,-8.902482865787526,-36.12280193293255,44.12541552609454,-53.06663295063417,-13.311081778210697,-40.07605242424959,11.936920971558974,-39.872179971219026,49.39551569420868,4.522458707719839,70.02451188853581,-54.02216177445953,31.463249985561728,54.21707894773191,48.26605344664692,60.03187888642151,62.09358330676807,-40.61339330094502,44.3956278319401,-9.734592450628796,-8.078040453270035,16.941155980673898,0.23375618057974368,48.96862965426418,31.614907781970302,129.5866536821368,-40.627106108343185,23.922448550705628,-11.26498196753436,-49.158280477986885,-67.96293876480591,5.879138851313861,-34.0349167653899,50.138193009170614,-24.289801139168553,-74.65368957638074,33.5606883235747,16.04658213887365,9.312749366992627,-17.926904060603505,24.180503384110214,-29.13220842646221,94.53383849837218,41.37211776246593,-17.261304971402257,-20.926624323971975,21.27815149101921,74.29129884006112,10.7414331270857,-120.5564774744217,-6.95380211455883,-35.03794142510955,-26.180689096303098,-20.484384180250768,-28.88023482839182,-13.098884397850199,32.63532179006898,22.906765884325072,46.97244773379832,55.6931182934098,-59.33364090021324,8.204297555667825,-55.473537225864874,19.576120798867144,-76.24791293571913,-65.94491786187835,3.1142469732410163,58.900324429055736,-47.653210292739374,17.196643136487747,-67.96641483758631,-63.10610554258696,22.330866413732544,-94.66126280288927,-55.377622040854206,33.74048632336767,-61.32857308688054],\"type\":\"scatter3d\"}],                        {\"template\":{\"data\":{\"histogram2dcontour\":[{\"type\":\"histogram2dcontour\",\"colorbar\":{\"outlinewidth\":0,\"ticks\":\"\"},\"colorscale\":[[0.0,\"#0d0887\"],[0.1111111111111111,\"#46039f\"],[0.2222222222222222,\"#7201a8\"],[0.3333333333333333,\"#9c179e\"],[0.4444444444444444,\"#bd3786\"],[0.5555555555555556,\"#d8576b\"],[0.6666666666666666,\"#ed7953\"],[0.7777777777777778,\"#fb9f3a\"],[0.8888888888888888,\"#fdca26\"],[1.0,\"#f0f921\"]]}],\"choropleth\":[{\"type\":\"choropleth\",\"colorbar\":{\"outlinewidth\":0,\"ticks\":\"\"}}],\"histogram2d\":[{\"type\":\"histogram2d\",\"colorbar\":{\"outlinewidth\":0,\"ticks\":\"\"},\"colorscale\":[[0.0,\"#0d0887\"],[0.1111111111111111,\"#46039f\"],[0.2222222222222222,\"#7201a8\"],[0.3333333333333333,\"#9c179e\"],[0.4444444444444444,\"#bd3786\"],[0.5555555555555556,\"#d8576b\"],[0.6666666666666666,\"#ed7953\"],[0.7777777777777778,\"#fb9f3a\"],[0.8888888888888888,\"#fdca26\"],[1.0,\"#f0f921\"]]}],\"heatmap\":[{\"type\":\"heatmap\",\"colorbar\":{\"outlinewidth\":0,\"ticks\":\"\"},\"colorscale\":[[0.0,\"#0d0887\"],[0.1111111111111111,\"#46039f\"],[0.2222222222222222,\"#7201a8\"],[0.3333333333333333,\"#9c179e\"],[0.4444444444444444,\"#bd3786\"],[0.5555555555555556,\"#d8576b\"],[0.6666666666666666,\"#ed7953\"],[0.7777777777777778,\"#fb9f3a\"],[0.8888888888888888,\"#fdca26\"],[1.0,\"#f0f921\"]]}],\"heatmapgl\":[{\"type\":\"heatmapgl\",\"colorbar\":{\"outlinewidth\":0,\"ticks\":\"\"},\"colorscale\":[[0.0,\"#0d0887\"],[0.1111111111111111,\"#46039f\"],[0.2222222222222222,\"#7201a8\"],[0.3333333333333333,\"#9c179e\"],[0.4444444444444444,\"#bd3786\"],[0.5555555555555556,\"#d8576b\"],[0.6666666666666666,\"#ed7953\"],[0.7777777777777778,\"#fb9f3a\"],[0.8888888888888888,\"#fdca26\"],[1.0,\"#f0f921\"]]}],\"contourcarpet\":[{\"type\":\"contourcarpet\",\"colorbar\":{\"outlinewidth\":0,\"ticks\":\"\"}}],\"contour\":[{\"type\":\"contour\",\"colorbar\":{\"outlinewidth\":0,\"ticks\":\"\"},\"colorscale\":[[0.0,\"#0d0887\"],[0.1111111111111111,\"#46039f\"],[0.2222222222222222,\"#7201a8\"],[0.3333333333333333,\"#9c179e\"],[0.4444444444444444,\"#bd3786\"],[0.5555555555555556,\"#d8576b\"],[0.6666666666666666,\"#ed7953\"],[0.7777777777777778,\"#fb9f3a\"],[0.8888888888888888,\"#fdca26\"],[1.0,\"#f0f921\"]]}],\"surface\":[{\"type\":\"surface\",\"colorbar\":{\"outlinewidth\":0,\"ticks\":\"\"},\"colorscale\":[[0.0,\"#0d0887\"],[0.1111111111111111,\"#46039f\"],[0.2222222222222222,\"#7201a8\"],[0.3333333333333333,\"#9c179e\"],[0.4444444444444444,\"#bd3786\"],[0.5555555555555556,\"#d8576b\"],[0.6666666666666666,\"#ed7953\"],[0.7777777777777778,\"#fb9f3a\"],[0.8888888888888888,\"#fdca26\"],[1.0,\"#f0f921\"]]}],\"mesh3d\":[{\"type\":\"mesh3d\",\"colorbar\":{\"outlinewidth\":0,\"ticks\":\"\"}}],\"scatter\":[{\"fillpattern\":{\"fillmode\":\"overlay\",\"size\":10,\"solidity\":0.2},\"type\":\"scatter\"}],\"parcoords\":[{\"type\":\"parcoords\",\"line\":{\"colorbar\":{\"outlinewidth\":0,\"ticks\":\"\"}}}],\"scatterpolargl\":[{\"type\":\"scatterpolargl\",\"marker\":{\"colorbar\":{\"outlinewidth\":0,\"ticks\":\"\"}}}],\"bar\":[{\"error_x\":{\"color\":\"#2a3f5f\"},\"error_y\":{\"color\":\"#2a3f5f\"},\"marker\":{\"line\":{\"color\":\"#E5ECF6\",\"width\":0.5},\"pattern\":{\"fillmode\":\"overlay\",\"size\":10,\"solidity\":0.2}},\"type\":\"bar\"}],\"scattergeo\":[{\"type\":\"scattergeo\",\"marker\":{\"colorbar\":{\"outlinewidth\":0,\"ticks\":\"\"}}}],\"scatterpolar\":[{\"type\":\"scatterpolar\",\"marker\":{\"colorbar\":{\"outlinewidth\":0,\"ticks\":\"\"}}}],\"histogram\":[{\"marker\":{\"pattern\":{\"fillmode\":\"overlay\",\"size\":10,\"solidity\":0.2}},\"type\":\"histogram\"}],\"scattergl\":[{\"type\":\"scattergl\",\"marker\":{\"colorbar\":{\"outlinewidth\":0,\"ticks\":\"\"}}}],\"scatter3d\":[{\"type\":\"scatter3d\",\"line\":{\"colorbar\":{\"outlinewidth\":0,\"ticks\":\"\"}},\"marker\":{\"colorbar\":{\"outlinewidth\":0,\"ticks\":\"\"}}}],\"scattermapbox\":[{\"type\":\"scattermapbox\",\"marker\":{\"colorbar\":{\"outlinewidth\":0,\"ticks\":\"\"}}}],\"scatterternary\":[{\"type\":\"scatterternary\",\"marker\":{\"colorbar\":{\"outlinewidth\":0,\"ticks\":\"\"}}}],\"scattercarpet\":[{\"type\":\"scattercarpet\",\"marker\":{\"colorbar\":{\"outlinewidth\":0,\"ticks\":\"\"}}}],\"carpet\":[{\"aaxis\":{\"endlinecolor\":\"#2a3f5f\",\"gridcolor\":\"white\",\"linecolor\":\"white\",\"minorgridcolor\":\"white\",\"startlinecolor\":\"#2a3f5f\"},\"baxis\":{\"endlinecolor\":\"#2a3f5f\",\"gridcolor\":\"white\",\"linecolor\":\"white\",\"minorgridcolor\":\"white\",\"startlinecolor\":\"#2a3f5f\"},\"type\":\"carpet\"}],\"table\":[{\"cells\":{\"fill\":{\"color\":\"#EBF0F8\"},\"line\":{\"color\":\"white\"}},\"header\":{\"fill\":{\"color\":\"#C8D4E3\"},\"line\":{\"color\":\"white\"}},\"type\":\"table\"}],\"barpolar\":[{\"marker\":{\"line\":{\"color\":\"#E5ECF6\",\"width\":0.5},\"pattern\":{\"fillmode\":\"overlay\",\"size\":10,\"solidity\":0.2}},\"type\":\"barpolar\"}],\"pie\":[{\"automargin\":true,\"type\":\"pie\"}]},\"layout\":{\"autotypenumbers\":\"strict\",\"colorway\":[\"#636efa\",\"#EF553B\",\"#00cc96\",\"#ab63fa\",\"#FFA15A\",\"#19d3f3\",\"#FF6692\",\"#B6E880\",\"#FF97FF\",\"#FECB52\"],\"font\":{\"color\":\"#2a3f5f\"},\"hovermode\":\"closest\",\"hoverlabel\":{\"align\":\"left\"},\"paper_bgcolor\":\"white\",\"plot_bgcolor\":\"#E5ECF6\",\"polar\":{\"bgcolor\":\"#E5ECF6\",\"angularaxis\":{\"gridcolor\":\"white\",\"linecolor\":\"white\",\"ticks\":\"\"},\"radialaxis\":{\"gridcolor\":\"white\",\"linecolor\":\"white\",\"ticks\":\"\"}},\"ternary\":{\"bgcolor\":\"#E5ECF6\",\"aaxis\":{\"gridcolor\":\"white\",\"linecolor\":\"white\",\"ticks\":\"\"},\"baxis\":{\"gridcolor\":\"white\",\"linecolor\":\"white\",\"ticks\":\"\"},\"caxis\":{\"gridcolor\":\"white\",\"linecolor\":\"white\",\"ticks\":\"\"}},\"coloraxis\":{\"colorbar\":{\"outlinewidth\":0,\"ticks\":\"\"}},\"colorscale\":{\"sequential\":[[0.0,\"#0d0887\"],[0.1111111111111111,\"#46039f\"],[0.2222222222222222,\"#7201a8\"],[0.3333333333333333,\"#9c179e\"],[0.4444444444444444,\"#bd3786\"],[0.5555555555555556,\"#d8576b\"],[0.6666666666666666,\"#ed7953\"],[0.7777777777777778,\"#fb9f3a\"],[0.8888888888888888,\"#fdca26\"],[1.0,\"#f0f921\"]],\"sequentialminus\":[[0.0,\"#0d0887\"],[0.1111111111111111,\"#46039f\"],[0.2222222222222222,\"#7201a8\"],[0.3333333333333333,\"#9c179e\"],[0.4444444444444444,\"#bd3786\"],[0.5555555555555556,\"#d8576b\"],[0.6666666666666666,\"#ed7953\"],[0.7777777777777778,\"#fb9f3a\"],[0.8888888888888888,\"#fdca26\"],[1.0,\"#f0f921\"]],\"diverging\":[[0,\"#8e0152\"],[0.1,\"#c51b7d\"],[0.2,\"#de77ae\"],[0.3,\"#f1b6da\"],[0.4,\"#fde0ef\"],[0.5,\"#f7f7f7\"],[0.6,\"#e6f5d0\"],[0.7,\"#b8e186\"],[0.8,\"#7fbc41\"],[0.9,\"#4d9221\"],[1,\"#276419\"]]},\"xaxis\":{\"gridcolor\":\"white\",\"linecolor\":\"white\",\"ticks\":\"\",\"title\":{\"standoff\":15},\"zerolinecolor\":\"white\",\"automargin\":true,\"zerolinewidth\":2},\"yaxis\":{\"gridcolor\":\"white\",\"linecolor\":\"white\",\"ticks\":\"\",\"title\":{\"standoff\":15},\"zerolinecolor\":\"white\",\"automargin\":true,\"zerolinewidth\":2},\"scene\":{\"xaxis\":{\"backgroundcolor\":\"#E5ECF6\",\"gridcolor\":\"white\",\"linecolor\":\"white\",\"showbackground\":true,\"ticks\":\"\",\"zerolinecolor\":\"white\",\"gridwidth\":2},\"yaxis\":{\"backgroundcolor\":\"#E5ECF6\",\"gridcolor\":\"white\",\"linecolor\":\"white\",\"showbackground\":true,\"ticks\":\"\",\"zerolinecolor\":\"white\",\"gridwidth\":2},\"zaxis\":{\"backgroundcolor\":\"#E5ECF6\",\"gridcolor\":\"white\",\"linecolor\":\"white\",\"showbackground\":true,\"ticks\":\"\",\"zerolinecolor\":\"white\",\"gridwidth\":2}},\"shapedefaults\":{\"line\":{\"color\":\"#2a3f5f\"}},\"annotationdefaults\":{\"arrowcolor\":\"#2a3f5f\",\"arrowhead\":0,\"arrowwidth\":1},\"geo\":{\"bgcolor\":\"white\",\"landcolor\":\"#E5ECF6\",\"subunitcolor\":\"white\",\"showland\":true,\"showlakes\":true,\"lakecolor\":\"white\"},\"title\":{\"x\":0.05},\"mapbox\":{\"style\":\"light\"}}},\"scene\":{\"domain\":{\"x\":[0.0,1.0],\"y\":[0.0,1.0]},\"xaxis\":{\"title\":{\"text\":\"feature1\"}},\"yaxis\":{\"title\":{\"text\":\"feature2\"}},\"zaxis\":{\"title\":{\"text\":\"target\"}}},\"legend\":{\"tracegroupgap\":0},\"margin\":{\"t\":60}},                        {\"responsive\": true}                    )                };                            </script>        </div>"
      ],
      "text/plain": [
       "Figure({\n",
       "    'data': [{'hovertemplate': 'feature1=%{x}<br>feature2=%{y}<br>target=%{z}<extra></extra>',\n",
       "              'legendgroup': '',\n",
       "              'marker': {'color': '#636efa', 'symbol': 'circle'},\n",
       "              'mode': 'markers',\n",
       "              'name': '',\n",
       "              'scene': 'scene',\n",
       "              'showlegend': False,\n",
       "              'type': 'scatter3d',\n",
       "              'x': array([-1.34091272e+00,  9.77954970e-01,  1.00575677e+00, -1.51523943e+00,\n",
       "                           5.78369492e-01, -5.62899852e-02,  1.11122583e+00,  3.38429114e-01,\n",
       "                           1.33774087e+00,  1.43839531e+00,  1.44658447e-01, -9.18763984e-01,\n",
       "                           2.79387629e-01, -7.00282609e-02, -3.33436384e-02,  5.48559779e-01,\n",
       "                           4.17964253e-01,  2.09161055e+00,  7.32578512e-02, -6.40864317e-02,\n",
       "                          -5.14228224e-01, -1.30073487e-01, -5.73110601e-01, -6.25201286e-01,\n",
       "                          -1.45897341e+00,  1.84776237e+00,  1.99168877e+00, -1.27242287e+00,\n",
       "                          -1.85247929e+00,  9.89555940e-01, -4.19616012e-01,  4.71914241e-01,\n",
       "                           1.64871760e+00,  1.79813786e+00,  5.70008135e-01, -4.74583601e-01,\n",
       "                          -2.02219396e-01,  2.22017132e-01, -1.73120425e+00, -5.90250933e-02,\n",
       "                          -1.49206232e+00, -5.30484231e-01,  1.19793212e+00,  6.30165585e-02,\n",
       "                          -3.99407817e-01,  5.22322101e-01,  1.18052409e+00, -1.40560579e+00,\n",
       "                           3.11388324e-01,  1.84359235e+00, -1.93617926e+00, -2.75212930e-01,\n",
       "                          -1.49242025e+00,  1.07319512e-01, -2.98936568e-01,  4.05007727e-01,\n",
       "                          -6.88424672e-01, -2.13561177e-01,  1.04544566e+00,  4.91930837e-01,\n",
       "                          -1.17198135e+00, -1.05079135e-01,  4.95797367e-01, -6.73199694e-01,\n",
       "                          -5.16554667e-01,  1.42678180e+00,  1.51393400e+00, -7.10326583e-01,\n",
       "                           1.00040882e+00,  3.53737188e-02, -8.13840300e-01, -5.76465276e-02,\n",
       "                          -4.01740975e-01, -1.55845271e+00, -9.12408000e-01, -1.03634470e+00,\n",
       "                           1.39309772e-02, -5.09126603e-01,  4.54942843e-01, -1.18875629e+00,\n",
       "                          -9.31386985e-01, -1.55293039e-03, -3.07630044e-01,  1.09275199e+00,\n",
       "                          -4.87694609e-01,  5.81181781e-01,  9.72508046e-01,  1.74903094e+00,\n",
       "                           4.17313118e-01, -7.83446541e-01, -8.04366100e-01,  1.10076643e+00,\n",
       "                          -8.56664204e-01, -8.29861574e-01,  6.93516595e-01, -9.28827195e-01,\n",
       "                           1.52485233e+00,  1.49247358e+00,  9.02798278e-01, -1.31171161e+00,\n",
       "                          -9.34236076e-01,  7.81139744e-01, -1.26155193e+00, -1.30805417e+00,\n",
       "                          -1.27317923e+00, -1.00410538e+00,  1.95773970e-01, -1.01289448e-01,\n",
       "                          -9.20749169e-01, -2.28580697e-01,  6.72881738e-01,  1.31019090e-01,\n",
       "                           1.27371115e-01, -1.54333894e+00,  4.78897592e-01,  2.41538074e+00,\n",
       "                           2.21947645e-01,  5.25598331e-01,  1.10180018e+00, -1.56373842e+00,\n",
       "                          -1.94703196e-01,  1.89317344e-01, -1.34337691e+00, -1.69097591e+00,\n",
       "                           6.23940524e-01, -4.68878268e-01, -6.04392624e-02,  1.23673373e+00,\n",
       "                          -3.18487981e-01, -7.87618309e-01, -3.33089492e-01,  2.04508304e+00,\n",
       "                           2.43281935e+00, -3.12607319e-01, -7.69638787e-02,  7.93137800e-01,\n",
       "                           1.23845804e+00, -7.05122854e-01, -9.09666360e-02, -1.19803926e+00,\n",
       "                           9.54593386e-01, -7.24293579e-01, -3.45103736e-01, -2.72626011e-01,\n",
       "                          -9.53849842e-01, -1.86749268e-01, -1.38786084e+00, -7.64856122e-01,\n",
       "                           7.30100969e-01,  2.57011205e-01]),\n",
       "              'y': array([ 1.46125719, -1.82497264,  0.24088918,  0.42398171, -0.50465206,\n",
       "                           0.67374517, -1.21410444,  0.96080888,  0.11117899,  0.77535071,\n",
       "                           0.33198653, -0.28002146,  0.27985937, -0.74638783, -0.05127086,\n",
       "                           0.15283376,  0.2576519 , -0.34775853,  0.77204225,  0.17771807,\n",
       "                          -1.71429426,  0.38435306, -1.07335627,  1.04242393, -0.85261034,\n",
       "                          -0.01428774,  0.47287172,  0.38958591,  0.49870783, -0.08674296,\n",
       "                          -0.44854391,  0.56364189, -0.15916149, -1.39157909, -1.1098891 ,\n",
       "                           1.03024074, -0.2034256 , -0.14966021, -0.19804772, -3.50351075,\n",
       "                          -0.39390319, -0.68158094,  1.1967212 , -1.35110582, -2.57079249,\n",
       "                          -0.89473647,  1.43089425,  0.4542713 , -0.8008345 ,  0.23675984,\n",
       "                          -1.36233267, -0.93766389,  1.03425708,  1.51708102,  0.14185065,\n",
       "                           2.02256683,  0.12235454, -0.67790547,  2.09338291, -1.4242374 ,\n",
       "                           2.06056644, -0.47072962, -0.44484119,  0.42948449, -1.09897993,\n",
       "                          -0.95625481,  1.71476855, -0.16468379,  0.156754  , -0.11912224,\n",
       "                           1.26280226, -0.18410832,  0.52705482,  0.58907709, -1.28242197,\n",
       "                           0.30544324, -0.85164014, -0.814898  ,  0.23359586,  0.97719905,\n",
       "                          -0.21915139,  0.82896396,  0.63413963,  0.2533643 , -1.23133347,\n",
       "                           0.83991443, -0.13663803,  0.30616183,  0.88983265, -0.64035407,\n",
       "                          -0.09664829, -0.91474178, -0.73794442, -1.28161395,  0.66924529,\n",
       "                           0.84357843, -0.68050111,  1.36504553,  0.64616777, -0.84452009,\n",
       "                           2.23594797,  0.55105507, -1.26858601,  1.2716433 , -1.50191143,\n",
       "                          -0.93680339,  1.66001909,  0.22838014, -0.14998772, -0.14332441,\n",
       "                          -0.38638354,  0.56719904, -0.94161623,  2.28633116, -0.44418689,\n",
       "                          -0.46453582, -0.3691101 , -0.57803853, -0.6936634 ,  0.77747612,\n",
       "                          -0.03463109,  0.77335296, -2.17963526,  1.10078858, -1.90232396,\n",
       "                           0.51260785,  1.00664435, -0.26249698, -0.41376826, -0.41271585,\n",
       "                           1.5552621 , -2.01164374,  0.2695322 ,  1.06012741,  0.84007661,\n",
       "                           0.07454986, -0.6246777 , -0.37362553,  0.02035201, -0.72788139,\n",
       "                          -0.35138226,  0.03639414,  1.01870828, -1.40197861, -0.62003826,\n",
       "                          -0.14951414,  0.46626482, -1.17829996, -0.07173146, -1.66206525]),\n",
       "              'z': array([ -39.78635687,  -50.57597122,  -68.21482251,  -33.62462639,\n",
       "                           -13.19307098,  -14.21546768,  -70.86427556,  111.09902089,\n",
       "                            19.79992776,   57.54995191,   20.14060971,  -69.10562271,\n",
       "                           -14.70319701,  -55.44910059,  -40.13047509,   56.70949295,\n",
       "                            80.74378072,   31.12576734,   30.11374921,   -8.38480368,\n",
       "                             4.72173928,   19.1346355 ,    7.97296031,   41.54193725,\n",
       "                           -26.66895137,  -13.18370572,   78.475488  ,  -21.20782747,\n",
       "                           -58.54135864,   44.26601021,  -11.18980818,  -42.12977497,\n",
       "                            85.27152684,  -39.53269805,   54.20097032,   -3.7862789 ,\n",
       "                            30.95582287,  -35.12952602,  -61.73718539,  -14.19481282,\n",
       "                             2.44570628,   31.24837236,   63.38953524,  -31.67801096,\n",
       "                            18.66975294,   43.57060248,   46.6598836 ,    4.81804972,\n",
       "                            12.50061087,   29.5237939 , -109.6804701 ,  -12.13580223,\n",
       "                           -79.50225304,   21.03691689, -130.07314049,   -2.33068621,\n",
       "                           -17.42150491,  -22.83598235,   62.22075054,   11.6433632 ,\n",
       "                           -19.5921655 , -115.86728971, -102.46110651,    5.73149297,\n",
       "                           -11.69534743,    2.61849106,   83.11426725,  -28.24228782,\n",
       "                            46.0146846 ,   13.04817783,    3.25904183,    2.77347033,\n",
       "                           -48.44668203,   -8.90248287,  -36.12280193,   44.12541553,\n",
       "                           -53.06663295,  -13.31108178,  -40.07605242,   11.93692097,\n",
       "                           -39.87217997,   49.39551569,    4.52245871,   70.02451189,\n",
       "                           -54.02216177,   31.46324999,   54.21707895,   48.26605345,\n",
       "                            60.03187889,   62.09358331,  -40.6133933 ,   44.39562783,\n",
       "                            -9.73459245,   -8.07804045,   16.94115598,    0.23375618,\n",
       "                            48.96862965,   31.61490778,  129.58665368,  -40.62710611,\n",
       "                            23.92244855,  -11.26498197,  -49.15828048,  -67.96293876,\n",
       "                             5.87913885,  -34.03491677,   50.13819301,  -24.28980114,\n",
       "                           -74.65368958,   33.56068832,   16.04658214,    9.31274937,\n",
       "                           -17.92690406,   24.18050338,  -29.13220843,   94.5338385 ,\n",
       "                            41.37211776,  -17.26130497,  -20.92662432,   21.27815149,\n",
       "                            74.29129884,   10.74143313, -120.55647747,   -6.95380211,\n",
       "                           -35.03794143,  -26.1806891 ,  -20.48438418,  -28.88023483,\n",
       "                           -13.0988844 ,   32.63532179,   22.90676588,   46.97244773,\n",
       "                            55.69311829,  -59.3336409 ,    8.20429756,  -55.47353723,\n",
       "                            19.5761208 ,  -76.24791294,  -65.94491786,    3.11424697,\n",
       "                            58.90032443,  -47.65321029,   17.19664314,  -67.96641484,\n",
       "                           -63.10610554,   22.33086641,  -94.6612628 ,  -55.37762204,\n",
       "                            33.74048632,  -61.32857309])}],\n",
       "    'layout': {'legend': {'tracegroupgap': 0},\n",
       "               'margin': {'t': 60},\n",
       "               'scene': {'domain': {'x': [0.0, 1.0], 'y': [0.0, 1.0]},\n",
       "                         'xaxis': {'title': {'text': 'feature1'}},\n",
       "                         'yaxis': {'title': {'text': 'feature2'}},\n",
       "                         'zaxis': {'title': {'text': 'target'}}},\n",
       "               'template': '...'}\n",
       "})"
      ]
     },
     "execution_count": 79,
     "metadata": {},
     "output_type": "execute_result"
    }
   ],
   "source": [
    "import plotly.express as px\n",
    "\n",
    "px.scatter_3d(df, x='feature1' , y='feature2' , z='target')"
   ]
  },
  {
   "cell_type": "markdown",
   "metadata": {},
   "source": [
    "# Ridge regression"
   ]
  },
  {
   "cell_type": "code",
   "execution_count": 88,
   "metadata": {},
   "outputs": [],
   "source": [
    "from sklearn.datasets import load_diabetes"
   ]
  },
  {
   "cell_type": "code",
   "execution_count": 89,
   "metadata": {},
   "outputs": [],
   "source": [
    "data = load_diabetes"
   ]
  },
  {
   "cell_type": "code",
   "execution_count": null,
   "metadata": {},
   "outputs": [],
   "source": []
  }
 ],
 "metadata": {
  "kernelspec": {
   "display_name": "Python 3",
   "language": "python",
   "name": "python3"
  },
  "language_info": {
   "codemirror_mode": {
    "name": "ipython",
    "version": 3
   },
   "file_extension": ".py",
   "mimetype": "text/x-python",
   "name": "python",
   "nbconvert_exporter": "python",
   "pygments_lexer": "ipython3",
   "version": "3.9.0"
  }
 },
 "nbformat": 4,
 "nbformat_minor": 2
}
